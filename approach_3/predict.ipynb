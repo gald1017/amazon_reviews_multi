{
 "cells": [
  {
   "cell_type": "code",
   "execution_count": 1,
   "id": "2795a49e",
   "metadata": {},
   "outputs": [],
   "source": [
    "import pandas as pd\n",
    "import pickle\n",
    "import numpy as np\n",
    "from sklearn.manifold import TSNE\n",
    "import matplotlib.pyplot as plt\n",
    "import torch\n",
    "from sklearn.linear_model import LogisticRegression\n",
    "from sklearn.pipeline import make_pipeline\n",
    "from sklearn.preprocessing import StandardScaler\n",
    "from sklearn.metrics import roc_curve\n",
    "from sklearn.metrics import roc_auc_score\n",
    "from matplotlib import pyplot\n",
    "from sklearn.metrics import precision_recall_curve\n",
    "from sklearn.metrics import auc\n",
    "from matplotlib import pyplot\n"
   ]
  },
  {
   "cell_type": "code",
   "execution_count": 2,
   "id": "c956cd39",
   "metadata": {},
   "outputs": [],
   "source": [
    "def roc(ytest, prob_list):\n",
    "    # generate a no skill prediction (majority class)\n",
    "\n",
    "    ns_probs = [0 for _ in range(len(list(ytest)))]\n",
    "\n",
    "    \n",
    "    # keep probabilities for the positive outcome only\n",
    "    lr_probs = prob_list[:, 1]\n",
    "    # calculate scores\n",
    "    ns_auc = roc_auc_score(list(ytest), ns_probs)\n",
    "    lr_auc = roc_auc_score(list(ytest), lr_probs)\n",
    "    # summarize scores\n",
    "    print('No Skill: ROC AUC=%.3f' % (ns_auc))\n",
    "    print('Logistic: ROC AUC=%.3f' % (lr_auc))\n",
    "    # calculate roc curves\n",
    "    ns_fpr, ns_tpr, _ = roc_curve(list(ytest), ns_probs)\n",
    "    lr_fpr, lr_tpr, _ = roc_curve(list(ytest), lr_probs)\n",
    "    # plot the roc curve for the model\n",
    "    pyplot.plot(ns_fpr, ns_tpr, linestyle='--', label='No Skill')\n",
    "    pyplot.plot(lr_fpr, lr_tpr, marker='.', label='Logistic')\n",
    "    # axis labels\n",
    "    pyplot.xlabel('False Positive Rate')\n",
    "    pyplot.ylabel('True Positive Rate')\n",
    "    # show the legend\n",
    "    pyplot.legend()\n",
    "    # show the plot\n",
    "    pyplot.show()"
   ]
  },
  {
   "cell_type": "code",
   "execution_count": 3,
   "id": "43f7a1eb",
   "metadata": {},
   "outputs": [],
   "source": [
    "def recall_precision(testy, lr_probs):\n",
    "    # predict class values   \n",
    "    lr_precision, lr_recall, _ = precision_recall_curve(testy, lr_probs)\n",
    "    lr_auc =  auc(lr_recall, lr_precision)\n",
    "    # summarize scores\n",
    "    print('Logistic: auc=%.3f' % (lr_auc))\n",
    "    # plot the precision-recall curves\n",
    "    no_skill = len(testy[testy==1]) / len(testy)\n",
    "    pyplot.plot([0, 1], [no_skill, no_skill], linestyle='--', label='No Skill')\n",
    "    pyplot.plot(lr_recall, lr_precision, marker='.', label='Logistic')\n",
    "    # axis labels\n",
    "    pyplot.xlabel('Recall')\n",
    "    pyplot.ylabel('Precision')\n",
    "    # show the legend\n",
    "    pyplot.legend()\n",
    "    # show the plot\n",
    "    pyplot.show()"
   ]
  },
  {
   "cell_type": "markdown",
   "id": "a35e4873",
   "metadata": {},
   "source": [
    "# Data Loading"
   ]
  },
  {
   "cell_type": "code",
   "execution_count": 4,
   "id": "202dac74",
   "metadata": {},
   "outputs": [],
   "source": [
    "import joblib\n",
    "\n",
    "X_train_eng = joblib.load(\"models/X_and_y/X_train_eng.pkl\") \n",
    "X_test_eng = joblib.load(\"models/X_and_y/X_test_eng.pkl\") \n",
    "y_train_eng = joblib.load(\"models/X_and_y/y_train_eng.pkl\")\n",
    "y_test_eng = joblib.load(\"models/X_and_y/y_test_eng.pkl\")\n"
   ]
  },
  {
   "cell_type": "markdown",
   "id": "b2a2772e",
   "metadata": {},
   "source": [
    "## Spanish train"
   ]
  },
  {
   "cell_type": "code",
   "execution_count": 5,
   "id": "6a05fba4",
   "metadata": {},
   "outputs": [],
   "source": [
    "spanish_TRAIN = 'es_train_bert-base-es-cased_embdded.pkl'\n",
    "spanish_TRAIN_label = '../data/train_es'"
   ]
  },
  {
   "cell_type": "code",
   "execution_count": 6,
   "id": "8c1f0c91",
   "metadata": {},
   "outputs": [],
   "source": [
    "es_TRAIN = torch.load(spanish_TRAIN)\n",
    "es_TRAIN = [x.numpy().reshape(-1) for x in es_TRAIN]\n",
    "\n",
    "es_train_set = pd.read_csv(spanish_TRAIN_label)\n",
    "es_train_set_y = es_train_set. stars"
   ]
  },
  {
   "cell_type": "code",
   "execution_count": 7,
   "id": "21113baf",
   "metadata": {},
   "outputs": [
    {
     "data": {
      "text/plain": [
       "80000"
      ]
     },
     "execution_count": 7,
     "metadata": {},
     "output_type": "execute_result"
    }
   ],
   "source": [
    "len(es_train_set_y)"
   ]
  },
  {
   "cell_type": "code",
   "execution_count": 8,
   "id": "7d9f81b4",
   "metadata": {},
   "outputs": [
    {
     "name": "stderr",
     "output_type": "stream",
     "text": [
      "/home/ec2-user/anaconda3/envs/amazonei_pytorch_latest_p36/lib/python3.6/site-packages/ipykernel/__main__.py:1: SettingWithCopyWarning: \n",
      "A value is trying to be set on a copy of a slice from a DataFrame\n",
      "\n",
      "See the caveats in the documentation: https://pandas.pydata.org/pandas-docs/stable/user_guide/indexing.html#returning-a-view-versus-a-copy\n",
      "  if __name__ == '__main__':\n",
      "/home/ec2-user/anaconda3/envs/amazonei_pytorch_latest_p36/lib/python3.6/site-packages/ipykernel/__main__.py:2: SettingWithCopyWarning: \n",
      "A value is trying to be set on a copy of a slice from a DataFrame\n",
      "\n",
      "See the caveats in the documentation: https://pandas.pydata.org/pandas-docs/stable/user_guide/indexing.html#returning-a-view-versus-a-copy\n",
      "  from ipykernel import kernelapp as app\n"
     ]
    }
   ],
   "source": [
    "es_train_set_y[es_train_set_y == 1] = 0 \n",
    "es_train_set_y[es_train_set_y == 5] = 1 "
   ]
  },
  {
   "cell_type": "markdown",
   "id": "3a91268f",
   "metadata": {},
   "source": [
    "### Spanish val"
   ]
  },
  {
   "cell_type": "code",
   "execution_count": 9,
   "id": "f224f634",
   "metadata": {},
   "outputs": [],
   "source": [
    "spanish_val = 'es_val_bert-base-es-cased_embdded.pkl'\n",
    "spanish_val_label = '../data/val_es'"
   ]
  },
  {
   "cell_type": "code",
   "execution_count": 10,
   "id": "4f286b84",
   "metadata": {},
   "outputs": [],
   "source": [
    "es_VAL = torch.load(spanish_val)\n",
    "es_VAL = [x.numpy().reshape(-1) for x in es_VAL]\n",
    "\n",
    "es_VAL_set = pd.read_csv(spanish_val_label)\n",
    "es_VAL_set_y = es_VAL_set. stars"
   ]
  },
  {
   "cell_type": "code",
   "execution_count": 11,
   "id": "e40a67ff",
   "metadata": {},
   "outputs": [
    {
     "name": "stderr",
     "output_type": "stream",
     "text": [
      "/home/ec2-user/anaconda3/envs/amazonei_pytorch_latest_p36/lib/python3.6/site-packages/ipykernel/__main__.py:1: SettingWithCopyWarning: \n",
      "A value is trying to be set on a copy of a slice from a DataFrame\n",
      "\n",
      "See the caveats in the documentation: https://pandas.pydata.org/pandas-docs/stable/user_guide/indexing.html#returning-a-view-versus-a-copy\n",
      "  if __name__ == '__main__':\n",
      "/home/ec2-user/anaconda3/envs/amazonei_pytorch_latest_p36/lib/python3.6/site-packages/ipykernel/__main__.py:2: SettingWithCopyWarning: \n",
      "A value is trying to be set on a copy of a slice from a DataFrame\n",
      "\n",
      "See the caveats in the documentation: https://pandas.pydata.org/pandas-docs/stable/user_guide/indexing.html#returning-a-view-versus-a-copy\n",
      "  from ipykernel import kernelapp as app\n"
     ]
    }
   ],
   "source": [
    "es_VAL_set_y[es_VAL_set_y == 1] = 0 \n",
    "es_VAL_set_y[es_VAL_set_y == 5] = 1 "
   ]
  },
  {
   "cell_type": "code",
   "execution_count": 12,
   "id": "9819c318",
   "metadata": {},
   "outputs": [
    {
     "data": {
      "text/plain": [
       "2000"
      ]
     },
     "execution_count": 12,
     "metadata": {},
     "output_type": "execute_result"
    }
   ],
   "source": [
    "len(es_VAL)"
   ]
  },
  {
   "cell_type": "markdown",
   "id": "20cd1fde",
   "metadata": {},
   "source": [
    "## Spanish translated to English train"
   ]
  },
  {
   "cell_type": "code",
   "execution_count": 13,
   "id": "4511b1cd",
   "metadata": {},
   "outputs": [],
   "source": [
    "spanish_translated_to_en_train = 'es_to_eng_train_embedded.pkl'\n",
    "spanish_translated_to_en_train_label = '../data/train_es'"
   ]
  },
  {
   "cell_type": "code",
   "execution_count": 14,
   "id": "d02720fd",
   "metadata": {},
   "outputs": [],
   "source": [
    "es_translated_to_eng_train = torch.load(spanish_translated_to_en_train)\n",
    "es_translated_to_eng_train = [x.numpy().reshape(-1) for x in es_translated_to_eng_train]\n",
    "\n",
    "es_translated_to_en_train_label = pd.read_csv(spanish_translated_to_en_train_label)\n",
    "es_translated_to_en_train_label = es_translated_to_en_train_label. stars"
   ]
  },
  {
   "cell_type": "code",
   "execution_count": 15,
   "id": "80ce74bc",
   "metadata": {},
   "outputs": [
    {
     "data": {
      "text/plain": [
       "80000"
      ]
     },
     "execution_count": 15,
     "metadata": {},
     "output_type": "execute_result"
    }
   ],
   "source": [
    "len(es_translated_to_en_train_label)"
   ]
  },
  {
   "cell_type": "code",
   "execution_count": 16,
   "id": "9d631846",
   "metadata": {},
   "outputs": [],
   "source": [
    "es_translated_to_en_train_label[es_translated_to_en_train_label == 1] = 0 \n",
    "es_translated_to_en_train_label[es_translated_to_en_train_label == 5] = 1 "
   ]
  },
  {
   "cell_type": "markdown",
   "id": "48850998",
   "metadata": {},
   "source": [
    "# Logistic regression -English"
   ]
  },
  {
   "cell_type": "markdown",
   "id": "daa61803",
   "metadata": {},
   "source": [
    "# Train results"
   ]
  },
  {
   "cell_type": "code",
   "execution_count": 17,
   "id": "8dac7e2d",
   "metadata": {},
   "outputs": [],
   "source": [
    "pipe = joblib.load(\"models/Logistic_Regression/logistic_regression.pkl\")"
   ]
  },
  {
   "cell_type": "code",
   "execution_count": 18,
   "id": "678172ce",
   "metadata": {},
   "outputs": [
    {
     "name": "stdout",
     "output_type": "stream",
     "text": [
      "No Skill: ROC AUC=0.500\n",
      "Logistic: ROC AUC=0.994\n"
     ]
    },
    {
     "data": {
      "image/png": "[encoded data removed]",
      "text/plain": [
       "<Figure size 432x288 with 1 Axes>"
      ]
     },
     "metadata": {
      "needs_background": "light"
     },
     "output_type": "display_data"
    }
   ],
   "source": [
    "roc(y_train_eng, pipe.predict_proba(X_train_eng))"
   ]
  },
  {
   "cell_type": "markdown",
   "id": "7044651c",
   "metadata": {},
   "source": [
    "## Test - English only"
   ]
  },
  {
   "cell_type": "code",
   "execution_count": 19,
   "id": "0d58217d",
   "metadata": {},
   "outputs": [
    {
     "name": "stdout",
     "output_type": "stream",
     "text": [
      "              precision    recall  f1-score   support\n",
      "\n",
      "     class 0       0.96      0.96      0.96      1006\n",
      "     class 1       0.96      0.96      0.96       994\n",
      "\n",
      "    accuracy                           0.96      2000\n",
      "   macro avg       0.96      0.96      0.96      2000\n",
      "weighted avg       0.96      0.96      0.96      2000\n",
      "\n"
     ]
    }
   ],
   "source": [
    "from sklearn.metrics import classification_report\n",
    "\n",
    "target_names = ['class 0', 'class 1']\n",
    "\n",
    "print(classification_report(pipe.predict(X_test_eng), y_test_eng, target_names=target_names))"
   ]
  },
  {
   "cell_type": "markdown",
   "id": "7d087d97",
   "metadata": {},
   "source": [
    "### ROC"
   ]
  },
  {
   "cell_type": "code",
   "execution_count": 20,
   "id": "2b33c46a",
   "metadata": {},
   "outputs": [
    {
     "name": "stdout",
     "output_type": "stream",
     "text": [
      "No Skill: ROC AUC=0.500\n",
      "Logistic: ROC AUC=0.990\n"
     ]
    },
    {
     "data": {
      "image/png": "[encoded data removed]",
      "text/plain": [
       "<Figure size 432x288 with 1 Axes>"
      ]
     },
     "metadata": {
      "needs_background": "light"
     },
     "output_type": "display_data"
    }
   ],
   "source": [
    "roc(y_test_eng, pipe.predict_proba(X_test_eng))"
   ]
  },
  {
   "cell_type": "markdown",
   "id": "162a811b",
   "metadata": {},
   "source": [
    "### precision recall"
   ]
  },
  {
   "cell_type": "code",
   "execution_count": 21,
   "id": "080a9b38",
   "metadata": {},
   "outputs": [
    {
     "name": "stdout",
     "output_type": "stream",
     "text": [
      "Logistic: auc=0.988\n"
     ]
    },
    {
     "data": {
      "image/png": "[encoded data removed]",
      "text/plain": [
       "<Figure size 432x288 with 1 Axes>"
      ]
     },
     "metadata": {
      "needs_background": "light"
     },
     "output_type": "display_data"
    }
   ],
   "source": [
    "lr_probs = pipe.predict_proba(X_test_eng)\n",
    "lr_probs = lr_probs[:, 1]\n",
    "recall_precision(y_test_eng, lr_probs)"
   ]
  },
  {
   "cell_type": "code",
   "execution_count": null,
   "id": "e2de337a",
   "metadata": {},
   "outputs": [],
   "source": []
  },
  {
   "cell_type": "code",
   "execution_count": null,
   "id": "5631c7ad",
   "metadata": {},
   "outputs": [],
   "source": []
  },
  {
   "cell_type": "markdown",
   "id": "4bc526f6",
   "metadata": {},
   "source": [
    "<b> Now we create prediction for the translated Spanish  data set to create synthetic labels. We will do it using the \"train\" dataset to simulate \n",
    "that we have large amount of unlabeld data  </b>"
   ]
  },
  {
   "cell_type": "code",
   "execution_count": 22,
   "id": "4cdc5632",
   "metadata": {},
   "outputs": [],
   "source": [
    "y_pred_es_train = pipe.predict(es_translated_to_eng_train)"
   ]
  },
  {
   "cell_type": "markdown",
   "id": "2b313c55",
   "metadata": {},
   "source": [
    "<b> how good is the prediction are? predicted labels vs original labels </b>"
   ]
  },
  {
   "cell_type": "code",
   "execution_count": 23,
   "id": "49ec95ca",
   "metadata": {},
   "outputs": [
    {
     "name": "stdout",
     "output_type": "stream",
     "text": [
      "              precision    recall  f1-score   support\n",
      "\n",
      "     class 0       0.94      0.95      0.95     39903\n",
      "     class 1       0.95      0.95      0.95     40097\n",
      "\n",
      "    accuracy                           0.95     80000\n",
      "   macro avg       0.95      0.95      0.95     80000\n",
      "weighted avg       0.95      0.95      0.95     80000\n",
      "\n"
     ]
    }
   ],
   "source": [
    "from sklearn.metrics import classification_report\n",
    "\n",
    "target_names = ['class 0', 'class 1']\n",
    "\n",
    "print(classification_report(y_pred_es_train, list(es_translated_to_en_train_label), target_names=target_names))"
   ]
  },
  {
   "cell_type": "code",
   "execution_count": 24,
   "id": "804b965f",
   "metadata": {},
   "outputs": [
    {
     "data": {
      "image/png": "[encoded data removed]",
      "text/plain": [
       "<Figure size 432x288 with 1 Axes>"
      ]
     },
     "metadata": {
      "needs_background": "light"
     },
     "output_type": "display_data"
    }
   ],
   "source": [
    "import matplotlib.pyplot as plt\n",
    "\n",
    "_ = plt.hist(np.max(pipe.predict_proba(es_translated_to_eng_train),axis=1), bins='auto')  \n",
    "plt.show()"
   ]
  },
  {
   "cell_type": "code",
   "execution_count": 25,
   "id": "d9ae1f8d",
   "metadata": {},
   "outputs": [],
   "source": [
    "torch.save(y_pred_es_train, 'synthetic_labels_for_translated_spanish_to_eng_TRAIN')"
   ]
  },
  {
   "cell_type": "markdown",
   "id": "72479a57",
   "metadata": {},
   "source": [
    "<b> The model look pretty sure about his predictions, so for now we keep them all </b>"
   ]
  },
  {
   "cell_type": "markdown",
   "id": "69b0c60f",
   "metadata": {},
   "source": [
    "<b> Now we train a Spanish clf base on those labels </b>"
   ]
  },
  {
   "cell_type": "markdown",
   "id": "f4341cdc",
   "metadata": {},
   "source": [
    "### Logistic regression -Spanish"
   ]
  },
  {
   "cell_type": "code",
   "execution_count": 55,
   "id": "61bd66b3",
   "metadata": {},
   "outputs": [
    {
     "data": {
      "text/plain": [
       "Pipeline(steps=[('standardscaler', StandardScaler()),\n",
       "                ('logisticregression',\n",
       "                 LogisticRegression(class_weight='balanced', max_iter=10000))])"
      ]
     },
     "execution_count": 55,
     "metadata": {},
     "output_type": "execute_result"
    }
   ],
   "source": [
    "pipe = make_pipeline(StandardScaler(), LogisticRegression( class_weight='balanced', max_iter=10000))\n",
    "#pipe = make_pipeline(StandardScaler(), LogisticRegression( max_iter=1000))\n",
    "\n",
    "pipe.fit(es_TRAIN, y_pred_es_train)"
   ]
  },
  {
   "cell_type": "markdown",
   "id": "51f2ba97",
   "metadata": {},
   "source": [
    "# Train reulsts"
   ]
  },
  {
   "cell_type": "markdown",
   "id": "3080cd27",
   "metadata": {},
   "source": [
    "### synthetic labels:"
   ]
  },
  {
   "cell_type": "code",
   "execution_count": 56,
   "id": "9abc1fb7",
   "metadata": {},
   "outputs": [
    {
     "name": "stdout",
     "output_type": "stream",
     "text": [
      "No Skill: ROC AUC=0.500\n",
      "Logistic: ROC AUC=0.946\n"
     ]
    },
    {
     "data": {
      "image/png": "[encoded data removed]",
      "text/plain": [
       "<Figure size 432x288 with 1 Axes>"
      ]
     },
     "metadata": {
      "needs_background": "light"
     },
     "output_type": "display_data"
    }
   ],
   "source": [
    "roc(list(y_pred_es_train), pipe.predict_proba(es_TRAIN))"
   ]
  },
  {
   "cell_type": "markdown",
   "id": "bbc732f2",
   "metadata": {},
   "source": [
    "### original labels:"
   ]
  },
  {
   "cell_type": "code",
   "execution_count": 57,
   "id": "1f843a15",
   "metadata": {},
   "outputs": [
    {
     "name": "stdout",
     "output_type": "stream",
     "text": [
      "No Skill: ROC AUC=0.500\n",
      "Logistic: ROC AUC=0.950\n"
     ]
    },
    {
     "data": {
      "image/png": "[encoded data removed]",
      "text/plain": [
       "<Figure size 432x288 with 1 Axes>"
      ]
     },
     "metadata": {
      "needs_background": "light"
     },
     "output_type": "display_data"
    }
   ],
   "source": [
    "roc(list(es_train_set_y), pipe.predict_proba(es_TRAIN))"
   ]
  },
  {
   "cell_type": "markdown",
   "id": "271bf117",
   "metadata": {},
   "source": [
    "## Test- Spanish only"
   ]
  },
  {
   "cell_type": "code",
   "execution_count": 28,
   "id": "1b5b47ed",
   "metadata": {
    "scrolled": true
   },
   "outputs": [
    {
     "name": "stdout",
     "output_type": "stream",
     "text": [
      "              precision    recall  f1-score   support\n",
      "\n",
      "     class 0       0.88      0.87      0.87      1012\n",
      "     class 1       0.87      0.88      0.87       988\n",
      "\n",
      "    accuracy                           0.87      2000\n",
      "   macro avg       0.87      0.87      0.87      2000\n",
      "weighted avg       0.87      0.87      0.87      2000\n",
      "\n"
     ]
    }
   ],
   "source": [
    "from sklearn.metrics import classification_report\n",
    "\n",
    "target_names = ['class 0', 'class 1']\n",
    "\n",
    "print(classification_report(pipe.predict(es_VAL), list(es_VAL_set_y), target_names=target_names))"
   ]
  },
  {
   "cell_type": "markdown",
   "id": "2dab5844",
   "metadata": {},
   "source": [
    "### ROC"
   ]
  },
  {
   "cell_type": "code",
   "execution_count": 29,
   "id": "42342b3e",
   "metadata": {},
   "outputs": [
    {
     "name": "stdout",
     "output_type": "stream",
     "text": [
      "No Skill: ROC AUC=0.500\n",
      "Logistic: ROC AUC=0.946\n"
     ]
    },
    {
     "data": {
      "image/png": "[encoded data removed]",
      "text/plain": [
       "<Figure size 432x288 with 1 Axes>"
      ]
     },
     "metadata": {
      "needs_background": "light"
     },
     "output_type": "display_data"
    }
   ],
   "source": [
    "roc(list(es_VAL_set_y), pipe.predict_proba(es_VAL))"
   ]
  },
  {
   "cell_type": "markdown",
   "id": "c19a889b",
   "metadata": {},
   "source": [
    "### precision recall"
   ]
  },
  {
   "cell_type": "code",
   "execution_count": 30,
   "id": "670c47e0",
   "metadata": {},
   "outputs": [
    {
     "name": "stdout",
     "output_type": "stream",
     "text": [
      "Logistic: auc=0.947\n"
     ]
    },
    {
     "data": {
      "image/png": "[encoded data removed]",
      "text/plain": [
       "<Figure size 432x288 with 1 Axes>"
      ]
     },
     "metadata": {
      "needs_background": "light"
     },
     "output_type": "display_data"
    }
   ],
   "source": [
    "lr_probs = pipe.predict_proba(es_VAL)\n",
    "lr_probs = lr_probs[:, 1]\n",
    "recall_precision(es_VAL_set_y, lr_probs)"
   ]
  },
  {
   "cell_type": "code",
   "execution_count": null,
   "id": "c31bbbad",
   "metadata": {},
   "outputs": [],
   "source": []
  },
  {
   "cell_type": "code",
   "execution_count": null,
   "id": "6bb61ef5",
   "metadata": {},
   "outputs": [],
   "source": []
  },
  {
   "cell_type": "code",
   "execution_count": null,
   "id": "5ca2db8f",
   "metadata": {},
   "outputs": [],
   "source": []
  },
  {
   "cell_type": "markdown",
   "id": "5d554518",
   "metadata": {},
   "source": [
    "## Checking the results by fully Spanish model:"
   ]
  },
  {
   "cell_type": "code",
   "execution_count": 49,
   "id": "25125148",
   "metadata": {},
   "outputs": [
    {
     "data": {
      "text/plain": [
       "1    40000\n",
       "0    40000\n",
       "Name: stars, dtype: int64"
      ]
     },
     "execution_count": 49,
     "metadata": {},
     "output_type": "execute_result"
    }
   ],
   "source": [
    "es_train_set_y.value_counts() # the original Spanish labels for train set"
   ]
  },
  {
   "cell_type": "code",
   "execution_count": 50,
   "id": "8ee9ffa5",
   "metadata": {},
   "outputs": [
    {
     "data": {
      "text/plain": [
       "1    40097\n",
       "0    39903\n",
       "dtype: int64"
      ]
     },
     "execution_count": 50,
     "metadata": {},
     "output_type": "execute_result"
    }
   ],
   "source": [
    "pd.DataFrame(y_pred_es_train).value_counts() # the predictaed Spanish labels created by the English model. English_model.predict(Spanish_translated_to_English_train)"
   ]
  },
  {
   "cell_type": "code",
   "execution_count": 51,
   "id": "3a7ed6ce",
   "metadata": {},
   "outputs": [
    {
     "data": {
      "text/plain": [
       "Pipeline(steps=[('standardscaler', StandardScaler()),\n",
       "                ('logisticregression',\n",
       "                 LogisticRegression(class_weight='balanced', max_iter=10000))])"
      ]
     },
     "execution_count": 51,
     "metadata": {},
     "output_type": "execute_result"
    }
   ],
   "source": [
    "pipe_spanish = make_pipeline(StandardScaler(), LogisticRegression( class_weight='balanced', max_iter=10000))\n",
    "#pipe = make_pipeline(StandardScaler(), LogisticRegression( max_iter=1000))\n",
    "\n",
    "pipe_spanish.fit(es_TRAIN, y_pred_es_train)"
   ]
  },
  {
   "cell_type": "code",
   "execution_count": 52,
   "id": "3042a69b",
   "metadata": {},
   "outputs": [
    {
     "name": "stdout",
     "output_type": "stream",
     "text": [
      "              precision    recall  f1-score   support\n",
      "\n",
      "     class 0       0.88      0.87      0.87      1012\n",
      "     class 1       0.87      0.88      0.87       988\n",
      "\n",
      "    accuracy                           0.87      2000\n",
      "   macro avg       0.87      0.87      0.87      2000\n",
      "weighted avg       0.87      0.87      0.87      2000\n",
      "\n"
     ]
    }
   ],
   "source": [
    "from sklearn.metrics import classification_report\n",
    "\n",
    "target_names = ['class 0', 'class 1']\n",
    "\n",
    "print(classification_report(pipe_spanish.predict(es_VAL), list(es_VAL_set_y), target_names=target_names))"
   ]
  },
  {
   "cell_type": "code",
   "execution_count": 53,
   "id": "39dadeaf",
   "metadata": {},
   "outputs": [
    {
     "name": "stdout",
     "output_type": "stream",
     "text": [
      "No Skill: ROC AUC=0.500\n",
      "Logistic: ROC AUC=0.946\n"
     ]
    },
    {
     "data": {
      "image/png": "[encoded data removed]",
      "text/plain": [
       "<Figure size 432x288 with 1 Axes>"
      ]
     },
     "metadata": {
      "needs_background": "light"
     },
     "output_type": "display_data"
    }
   ],
   "source": [
    "roc(list(es_VAL_set_y), pipe_spanish.predict_proba(es_VAL))"
   ]
  },
  {
   "cell_type": "code",
   "execution_count": null,
   "id": "36ff164e",
   "metadata": {},
   "outputs": [],
   "source": []
  }
 ],
 "metadata": {
  "kernelspec": {
   "display_name": "conda_amazonei_pytorch_latest_p36",
   "language": "python",
   "name": "conda_amazonei_pytorch_latest_p36"
  },
  "language_info": {
   "codemirror_mode": {
    "name": "ipython",
    "version": 3
   },
   "file_extension": ".py",
   "mimetype": "text/x-python",
   "name": "python",
   "nbconvert_exporter": "python",
   "pygments_lexer": "ipython3",
   "version": "3.6.13"
  }
 },
 "nbformat": 4,
 "nbformat_minor": 5
}
