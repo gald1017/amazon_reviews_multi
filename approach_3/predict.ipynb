{
 "cells": [
  {
   "cell_type": "code",
   "execution_count": 1,
   "id": "dda8daa4",
   "metadata": {},
   "outputs": [],
   "source": [
    "import pandas as pd\n",
    "import pickle\n",
    "import numpy as np\n",
    "from sklearn.manifold import TSNE\n",
    "import matplotlib.pyplot as plt\n",
    "import torch\n",
    "from sklearn.linear_model import LogisticRegression\n",
    "from sklearn.pipeline import make_pipeline\n",
    "from sklearn.preprocessing import StandardScaler\n",
    "from sklearn.metrics import roc_curve\n",
    "from sklearn.metrics import roc_auc_score\n",
    "from matplotlib import pyplot\n",
    "from sklearn.metrics import precision_recall_curve\n",
    "from sklearn.metrics import auc\n",
    "from matplotlib import pyplot\n"
   ]
  },
  {
   "cell_type": "code",
   "execution_count": 2,
   "id": "e6addca6",
   "metadata": {},
   "outputs": [],
   "source": [
    "def roc(ytest, prob_list):\n",
    "    # generate a no skill prediction (majority class)\n",
    "\n",
    "    ns_probs = [0 for _ in range(len(list(ytest)))]\n",
    "\n",
    "    \n",
    "    # keep probabilities for the positive outcome only\n",
    "    lr_probs = prob_list[:, 1]\n",
    "    # calculate scores\n",
    "    ns_auc = roc_auc_score(list(ytest), ns_probs)\n",
    "    lr_auc = roc_auc_score(list(ytest), lr_probs)\n",
    "    # summarize scores\n",
    "    print('No Skill: ROC AUC=%.3f' % (ns_auc))\n",
    "    print('Logistic: ROC AUC=%.3f' % (lr_auc))\n",
    "    # calculate roc curves\n",
    "    ns_fpr, ns_tpr, _ = roc_curve(list(ytest), ns_probs)\n",
    "    lr_fpr, lr_tpr, _ = roc_curve(list(ytest), lr_probs)\n",
    "    # plot the roc curve for the model\n",
    "    pyplot.plot(ns_fpr, ns_tpr, linestyle='--', label='No Skill')\n",
    "    pyplot.plot(lr_fpr, lr_tpr, marker='.', label='Logistic')\n",
    "    # axis labels\n",
    "    pyplot.xlabel('False Positive Rate')\n",
    "    pyplot.ylabel('True Positive Rate')\n",
    "    # show the legend\n",
    "    pyplot.legend()\n",
    "    # show the plot\n",
    "    pyplot.show()"
   ]
  },
  {
   "cell_type": "code",
   "execution_count": 3,
   "id": "e3c075c6",
   "metadata": {},
   "outputs": [],
   "source": [
    "def recall_precision(testy, lr_probs):\n",
    "    # predict class values   \n",
    "    lr_precision, lr_recall, _ = precision_recall_curve(testy, lr_probs)\n",
    "    lr_auc =  auc(lr_recall, lr_precision)\n",
    "    # summarize scores\n",
    "    print('Logistic: auc=%.3f' % (lr_auc))\n",
    "    # plot the precision-recall curves\n",
    "    no_skill = len(testy[testy==1]) / len(testy)\n",
    "    pyplot.plot([0, 1], [no_skill, no_skill], linestyle='--', label='No Skill')\n",
    "    pyplot.plot(lr_recall, lr_precision, marker='.', label='Logistic')\n",
    "    # axis labels\n",
    "    pyplot.xlabel('Recall')\n",
    "    pyplot.ylabel('Precision')\n",
    "    # show the legend\n",
    "    pyplot.legend()\n",
    "    # show the plot\n",
    "    pyplot.show()"
   ]
  },
  {
   "cell_type": "markdown",
   "id": "87080ecd",
   "metadata": {},
   "source": [
    "# Data Loading"
   ]
  },
  {
   "cell_type": "code",
   "execution_count": 4,
   "id": "10c4ac86",
   "metadata": {},
   "outputs": [],
   "source": [
    "import joblib\n",
    "\n",
    "X_train_eng = joblib.load(\"models/X_and_y/X_train_eng.pkl\") \n",
    "X_test_eng = joblib.load(\"models/X_and_y/X_test_eng.pkl\") \n",
    "y_train_eng = joblib.load(\"models/X_and_y/y_train_eng.pkl\")\n",
    "y_test_eng = joblib.load(\"models/X_and_y/y_test_eng.pkl\")\n"
   ]
  },
  {
   "cell_type": "code",
   "execution_count": 15,
   "id": "ecfd303d",
   "metadata": {},
   "outputs": [],
   "source": [
    "spanish_translated_to_en_TRAIN = 'es_to_eng_train_embedded.pkl'\n",
    "spanish_translated_to_en_TRAIN_label = '../data/train_es'"
   ]
  },
  {
   "cell_type": "code",
   "execution_count": 17,
   "id": "d9cb3b92",
   "metadata": {},
   "outputs": [],
   "source": [
    "es_TRAIN = torch.load(spanish_translated_to_en_TRAIN)\n",
    "es_TRAIN = [x.numpy().reshape(-1) for x in es_TRAIN]\n",
    "\n",
    "es_train_set = pd.read_csv(spanish_translated_to_en_TRAIN_label)\n",
    "es_train_set_y = es_train_set. stars"
   ]
  },
  {
   "cell_type": "code",
   "execution_count": 18,
   "id": "8f12dc6a",
   "metadata": {},
   "outputs": [
    {
     "data": {
      "text/plain": [
       "80000"
      ]
     },
     "execution_count": 18,
     "metadata": {},
     "output_type": "execute_result"
    }
   ],
   "source": [
    "len(es_train_set_y)"
   ]
  },
  {
   "cell_type": "code",
   "execution_count": 19,
   "id": "24fd1c60",
   "metadata": {},
   "outputs": [
    {
     "name": "stderr",
     "output_type": "stream",
     "text": [
      "/home/ec2-user/anaconda3/envs/amazonei_pytorch_latest_p36/lib/python3.6/site-packages/ipykernel/__main__.py:1: SettingWithCopyWarning: \n",
      "A value is trying to be set on a copy of a slice from a DataFrame\n",
      "\n",
      "See the caveats in the documentation: https://pandas.pydata.org/pandas-docs/stable/user_guide/indexing.html#returning-a-view-versus-a-copy\n",
      "  if __name__ == '__main__':\n",
      "/home/ec2-user/anaconda3/envs/amazonei_pytorch_latest_p36/lib/python3.6/site-packages/ipykernel/__main__.py:2: SettingWithCopyWarning: \n",
      "A value is trying to be set on a copy of a slice from a DataFrame\n",
      "\n",
      "See the caveats in the documentation: https://pandas.pydata.org/pandas-docs/stable/user_guide/indexing.html#returning-a-view-versus-a-copy\n",
      "  from ipykernel import kernelapp as app\n"
     ]
    }
   ],
   "source": [
    "es_train_set_y[es_train_set_y == 1] = 0 \n",
    "es_train_set_y[es_train_set_y == 5] = 1 "
   ]
  },
  {
   "cell_type": "markdown",
   "id": "21236348",
   "metadata": {},
   "source": [
    "### Spanish val"
   ]
  },
  {
   "cell_type": "code",
   "execution_count": 34,
   "id": "debba332",
   "metadata": {},
   "outputs": [],
   "source": [
    "spanish_translated_to_en_val = 'es_to_eng_val_embedded.pkl'\n",
    "spanish_translated_to_en_val_label = '../data/val_es'"
   ]
  },
  {
   "cell_type": "code",
   "execution_count": 35,
   "id": "be1ea74d",
   "metadata": {},
   "outputs": [],
   "source": [
    "es_VAL = torch.load(spanish_translated_to_en_val)\n",
    "es_VAL = [x.numpy().reshape(-1) for x in es_VAL]\n",
    "\n",
    "es_VAL_set = pd.read_csv(spanish_translated_to_en_val_label)\n",
    "es_VAL_set_y = es_VAL_set. stars"
   ]
  },
  {
   "cell_type": "code",
   "execution_count": 38,
   "id": "5a2546c8",
   "metadata": {},
   "outputs": [
    {
     "name": "stderr",
     "output_type": "stream",
     "text": [
      "/home/ec2-user/anaconda3/envs/amazonei_pytorch_latest_p36/lib/python3.6/site-packages/ipykernel/__main__.py:1: SettingWithCopyWarning: \n",
      "A value is trying to be set on a copy of a slice from a DataFrame\n",
      "\n",
      "See the caveats in the documentation: https://pandas.pydata.org/pandas-docs/stable/user_guide/indexing.html#returning-a-view-versus-a-copy\n",
      "  if __name__ == '__main__':\n",
      "/home/ec2-user/anaconda3/envs/amazonei_pytorch_latest_p36/lib/python3.6/site-packages/ipykernel/__main__.py:2: SettingWithCopyWarning: \n",
      "A value is trying to be set on a copy of a slice from a DataFrame\n",
      "\n",
      "See the caveats in the documentation: https://pandas.pydata.org/pandas-docs/stable/user_guide/indexing.html#returning-a-view-versus-a-copy\n",
      "  from ipykernel import kernelapp as app\n"
     ]
    }
   ],
   "source": [
    "es_VAL_set_y[es_VAL_set_y == 1] = 0 \n",
    "es_VAL_set_y[es_VAL_set_y == 5] = 1 "
   ]
  },
  {
   "cell_type": "code",
   "execution_count": 39,
   "id": "48ce8403",
   "metadata": {},
   "outputs": [
    {
     "data": {
      "text/plain": [
       "2000"
      ]
     },
     "execution_count": 39,
     "metadata": {},
     "output_type": "execute_result"
    }
   ],
   "source": [
    "len(es_VAL)"
   ]
  },
  {
   "cell_type": "markdown",
   "id": "c6163c0f",
   "metadata": {},
   "source": [
    "# Logistic regression"
   ]
  },
  {
   "cell_type": "markdown",
   "id": "abce8334",
   "metadata": {},
   "source": [
    "# Train results"
   ]
  },
  {
   "cell_type": "code",
   "execution_count": 6,
   "id": "42d5ee81",
   "metadata": {},
   "outputs": [],
   "source": [
    "pipe = joblib.load(\"models/Logistic_Regression/logistic_regression.pkl\")"
   ]
  },
  {
   "cell_type": "code",
   "execution_count": 7,
   "id": "50d2811e",
   "metadata": {},
   "outputs": [
    {
     "name": "stdout",
     "output_type": "stream",
     "text": [
      "No Skill: ROC AUC=0.500\n",
      "Logistic: ROC AUC=0.994\n"
     ]
    },
    {
     "data": {
      "image/png": "[encoded data removed]",
      "text/plain": [
       "<Figure size 432x288 with 1 Axes>"
      ]
     },
     "metadata": {
      "needs_background": "light"
     },
     "output_type": "display_data"
    }
   ],
   "source": [
    "roc(y_train_eng, pipe.predict_proba(X_train_eng))"
   ]
  },
  {
   "cell_type": "markdown",
   "id": "53eeb540",
   "metadata": {},
   "source": [
    "## Test - English only"
   ]
  },
  {
   "cell_type": "code",
   "execution_count": 8,
   "id": "5e507fde",
   "metadata": {},
   "outputs": [
    {
     "name": "stdout",
     "output_type": "stream",
     "text": [
      "              precision    recall  f1-score   support\n",
      "\n",
      "     class 0       0.96      0.96      0.96      1006\n",
      "     class 1       0.96      0.96      0.96       994\n",
      "\n",
      "    accuracy                           0.96      2000\n",
      "   macro avg       0.96      0.96      0.96      2000\n",
      "weighted avg       0.96      0.96      0.96      2000\n",
      "\n"
     ]
    }
   ],
   "source": [
    "from sklearn.metrics import classification_report\n",
    "\n",
    "target_names = ['class 0', 'class 1']\n",
    "\n",
    "print(classification_report(pipe.predict(X_test_eng), y_test_eng, target_names=target_names))"
   ]
  },
  {
   "cell_type": "markdown",
   "id": "add3adac",
   "metadata": {},
   "source": [
    "### ROC"
   ]
  },
  {
   "cell_type": "code",
   "execution_count": 9,
   "id": "b0dd111a",
   "metadata": {},
   "outputs": [
    {
     "name": "stdout",
     "output_type": "stream",
     "text": [
      "No Skill: ROC AUC=0.500\n",
      "Logistic: ROC AUC=0.990\n"
     ]
    },
    {
     "data": {
      "image/png": "[encoded data removed]",
      "text/plain": [
       "<Figure size 432x288 with 1 Axes>"
      ]
     },
     "metadata": {
      "needs_background": "light"
     },
     "output_type": "display_data"
    }
   ],
   "source": [
    "roc(y_test_eng, pipe.predict_proba(X_test_eng))"
   ]
  },
  {
   "cell_type": "markdown",
   "id": "845bede2",
   "metadata": {},
   "source": [
    "### precision recall"
   ]
  },
  {
   "cell_type": "code",
   "execution_count": 10,
   "id": "b03fabc0",
   "metadata": {},
   "outputs": [
    {
     "name": "stdout",
     "output_type": "stream",
     "text": [
      "Logistic: auc=0.988\n"
     ]
    },
    {
     "data": {
      "image/png": "[encoded data removed]",
      "text/plain": [
       "<Figure size 432x288 with 1 Axes>"
      ]
     },
     "metadata": {
      "needs_background": "light"
     },
     "output_type": "display_data"
    }
   ],
   "source": [
    "lr_probs = pipe.predict_proba(X_test_eng)\n",
    "lr_probs = lr_probs[:, 1]\n",
    "recall_precision(y_test_eng, lr_probs)"
   ]
  },
  {
   "cell_type": "markdown",
   "id": "848b1d9b",
   "metadata": {},
   "source": [
    "<b> now we create prediction for the translated Spanish  data set to create synthetic labels. BUT we will do it using the \"train\" dataset to simulate \n",
    "that we have large amount of unlabeld data  </b>"
   ]
  },
  {
   "cell_type": "code",
   "execution_count": 21,
   "id": "c2461219",
   "metadata": {},
   "outputs": [],
   "source": [
    "y_pred_es_train = pipe.predict(es_TRAIN)"
   ]
  },
  {
   "cell_type": "markdown",
   "id": "f27a27f6",
   "metadata": {},
   "source": [
    "<b> how good is the prediction? </b>"
   ]
  },
  {
   "cell_type": "code",
   "execution_count": 22,
   "id": "a8fbe32a",
   "metadata": {},
   "outputs": [
    {
     "name": "stdout",
     "output_type": "stream",
     "text": [
      "              precision    recall  f1-score   support\n",
      "\n",
      "     class 0       0.94      0.95      0.95     39903\n",
      "     class 1       0.95      0.95      0.95     40097\n",
      "\n",
      "    accuracy                           0.95     80000\n",
      "   macro avg       0.95      0.95      0.95     80000\n",
      "weighted avg       0.95      0.95      0.95     80000\n",
      "\n"
     ]
    }
   ],
   "source": [
    "from sklearn.metrics import classification_report\n",
    "\n",
    "target_names = ['class 0', 'class 1']\n",
    "\n",
    "print(classification_report(y_pred_es_train, list(es_train_set_y), target_names=target_names))"
   ]
  },
  {
   "cell_type": "code",
   "execution_count": 27,
   "id": "325bbf0f",
   "metadata": {},
   "outputs": [
    {
     "data": {
      "image/png": "[encoded data removed]",
      "text/plain": [
       "<Figure size 432x288 with 1 Axes>"
      ]
     },
     "metadata": {
      "needs_background": "light"
     },
     "output_type": "display_data"
    }
   ],
   "source": [
    "import matplotlib.pyplot as plt\n",
    "\n",
    "_ = plt.hist(np.max(pipe.predict_proba(es_TRAIN),axis=1), bins='auto')  \n",
    "plt.show()"
   ]
  },
  {
   "cell_type": "code",
   "execution_count": 30,
   "id": "0a677fd9",
   "metadata": {},
   "outputs": [],
   "source": [
    "torch.save(y_pred_es_train, 'synthetic_labels_for_translated_spanish_to_eng_TRAIN')"
   ]
  },
  {
   "cell_type": "markdown",
   "id": "c0891a98",
   "metadata": {},
   "source": [
    "<b> the model look pretty sure about his predictions so for now we keep them all </b>"
   ]
  },
  {
   "cell_type": "markdown",
   "id": "69b5653e",
   "metadata": {},
   "source": [
    "<b> now we train a Spanish clf base on those labels </b>"
   ]
  },
  {
   "cell_type": "markdown",
   "id": "46c8c2a0",
   "metadata": {},
   "source": [
    "### Logistic regression"
   ]
  },
  {
   "cell_type": "code",
   "execution_count": 32,
   "id": "b5924f0e",
   "metadata": {},
   "outputs": [
    {
     "data": {
      "text/plain": [
       "Pipeline(steps=[('standardscaler', StandardScaler()),\n",
       "                ('logisticregression',\n",
       "                 LogisticRegression(class_weight='balanced', max_iter=10000))])"
      ]
     },
     "execution_count": 32,
     "metadata": {},
     "output_type": "execute_result"
    }
   ],
   "source": [
    "pipe = make_pipeline(StandardScaler(), LogisticRegression( class_weight='balanced', max_iter=10000))\n",
    "#pipe = make_pipeline(StandardScaler(), LogisticRegression( max_iter=1000))\n",
    "\n",
    "pipe.fit(es_TRAIN, y_pred_es_train)"
   ]
  },
  {
   "cell_type": "markdown",
   "id": "a286f95e",
   "metadata": {},
   "source": [
    "## Test- Spanish only"
   ]
  },
  {
   "cell_type": "code",
   "execution_count": 40,
   "id": "656775f8",
   "metadata": {
    "scrolled": true
   },
   "outputs": [
    {
     "name": "stdout",
     "output_type": "stream",
     "text": [
      "              precision    recall  f1-score   support\n",
      "\n",
      "     class 0       0.07      0.90      0.13        78\n",
      "     class 1       0.99      0.52      0.68      1922\n",
      "\n",
      "    accuracy                           0.53      2000\n",
      "   macro avg       0.53      0.71      0.40      2000\n",
      "weighted avg       0.96      0.53      0.66      2000\n",
      "\n"
     ]
    }
   ],
   "source": [
    "from sklearn.metrics import classification_report\n",
    "\n",
    "target_names = ['class 0', 'class 1']\n",
    "\n",
    "print(classification_report(pipe.predict(es_VAL), list(es_VAL_set_y), target_names=target_names))"
   ]
  },
  {
   "cell_type": "markdown",
   "id": "4d150fb6",
   "metadata": {},
   "source": [
    "### ROC"
   ]
  },
  {
   "cell_type": "code",
   "execution_count": 42,
   "id": "042bfefe",
   "metadata": {},
   "outputs": [
    {
     "name": "stdout",
     "output_type": "stream",
     "text": [
      "No Skill: ROC AUC=0.500\n",
      "Logistic: ROC AUC=0.762\n"
     ]
    },
    {
     "data": {
      "image/png": "[encoded data removed]",
      "text/plain": [
       "<Figure size 432x288 with 1 Axes>"
      ]
     },
     "metadata": {
      "needs_background": "light"
     },
     "output_type": "display_data"
    }
   ],
   "source": [
    "roc(list(es_VAL_set_y), pipe.predict_proba(es_VAL))"
   ]
  },
  {
   "cell_type": "markdown",
   "id": "8b70ecc8",
   "metadata": {},
   "source": [
    "### precision recall"
   ]
  },
  {
   "cell_type": "code",
   "execution_count": 43,
   "id": "37edfe74",
   "metadata": {},
   "outputs": [
    {
     "name": "stdout",
     "output_type": "stream",
     "text": [
      "Logistic: auc=0.770\n"
     ]
    },
    {
     "data": {
      "image/png": "[encoded data removed]",
      "text/plain": [
       "<Figure size 432x288 with 1 Axes>"
      ]
     },
     "metadata": {
      "needs_background": "light"
     },
     "output_type": "display_data"
    }
   ],
   "source": [
    "lr_probs = pipe.predict_proba(es_VAL)\n",
    "lr_probs = lr_probs[:, 1]\n",
    "recall_precision(es_VAL_set_y, lr_probs)"
   ]
  },
  {
   "cell_type": "markdown",
   "id": "0cf73470",
   "metadata": {},
   "source": []
  },
  {
   "cell_type": "code",
   "execution_count": null,
   "id": "c3efb9ae",
   "metadata": {},
   "outputs": [],
   "source": []
  },
  {
   "cell_type": "code",
   "execution_count": null,
   "id": "28229876",
   "metadata": {},
   "outputs": [],
   "source": []
  },
  {
   "cell_type": "code",
   "execution_count": null,
   "id": "90054bfb",
   "metadata": {},
   "outputs": [],
   "source": []
  },
  {
   "cell_type": "markdown",
   "id": "c11a6dae",
   "metadata": {},
   "source": [
    "checking the results by fully Spanish model:"
   ]
  },
  {
   "cell_type": "code",
   "execution_count": 45,
   "id": "2473e6fa",
   "metadata": {},
   "outputs": [
    {
     "data": {
      "text/plain": [
       "Pipeline(steps=[('standardscaler', StandardScaler()),\n",
       "                ('logisticregression',\n",
       "                 LogisticRegression(class_weight='balanced', max_iter=10000))])"
      ]
     },
     "execution_count": 45,
     "metadata": {},
     "output_type": "execute_result"
    }
   ],
   "source": [
    "pipe_spanish = make_pipeline(StandardScaler(), LogisticRegression( class_weight='balanced', max_iter=10000))\n",
    "#pipe = make_pipeline(StandardScaler(), LogisticRegression( max_iter=1000))\n",
    "\n",
    "pipe_spanish.fit(es_TRAIN, es_train_set_y)"
   ]
  },
  {
   "cell_type": "code",
   "execution_count": 46,
   "id": "2b1d9c3e",
   "metadata": {},
   "outputs": [
    {
     "name": "stdout",
     "output_type": "stream",
     "text": [
      "              precision    recall  f1-score   support\n",
      "\n",
      "     class 0       0.72      0.74      0.73       969\n",
      "     class 1       0.75      0.73      0.74      1031\n",
      "\n",
      "    accuracy                           0.74      2000\n",
      "   macro avg       0.74      0.74      0.74      2000\n",
      "weighted avg       0.74      0.74      0.74      2000\n",
      "\n"
     ]
    }
   ],
   "source": [
    "from sklearn.metrics import classification_report\n",
    "\n",
    "target_names = ['class 0', 'class 1']\n",
    "\n",
    "print(classification_report(pipe_spanish.predict(es_VAL), list(es_VAL_set_y), target_names=target_names))"
   ]
  },
  {
   "cell_type": "code",
   "execution_count": null,
   "id": "fbfb9486",
   "metadata": {},
   "outputs": [],
   "source": []
  }
 ],
 "metadata": {
  "kernelspec": {
   "display_name": "conda_amazonei_pytorch_latest_p36",
   "language": "python",
   "name": "conda_amazonei_pytorch_latest_p36"
  },
  "language_info": {
   "codemirror_mode": {
    "name": "ipython",
    "version": 3
   },
   "file_extension": ".py",
   "mimetype": "text/x-python",
   "name": "python",
   "nbconvert_exporter": "python",
   "pygments_lexer": "ipython3",
   "version": "3.6.13"
  }
 },
 "nbformat": 4,
 "nbformat_minor": 5
}
