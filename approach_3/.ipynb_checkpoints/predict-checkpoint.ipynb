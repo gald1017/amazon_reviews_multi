{
 "cells": [
  {
   "cell_type": "code",
   "execution_count": 59,
   "id": "3df3ae94",
   "metadata": {},
   "outputs": [],
   "source": [
    "import pandas as pd\n",
    "import pickle\n",
    "import numpy as np\n",
    "from sklearn.manifold import TSNE\n",
    "import matplotlib.pyplot as plt\n",
    "import torch\n",
    "from sklearn.linear_model import LogisticRegression\n",
    "from sklearn.pipeline import make_pipeline\n",
    "from sklearn.preprocessing import StandardScaler\n",
    "from sklearn.metrics import roc_curve\n",
    "from sklearn.metrics import roc_auc_score\n",
    "from matplotlib import pyplot\n",
    "from sklearn.metrics import precision_recall_curve\n",
    "from sklearn.metrics import auc\n",
    "from matplotlib import pyplot\n"
   ]
  },
  {
   "cell_type": "code",
   "execution_count": 60,
   "id": "0e4393ad",
   "metadata": {},
   "outputs": [],
   "source": [
    "def roc(ytest, prob_list):\n",
    "    # generate a no skill prediction (majority class)\n",
    "\n",
    "    ns_probs = [0 for _ in range(len(list(ytest)))]\n",
    "\n",
    "    \n",
    "    # keep probabilities for the positive outcome only\n",
    "    lr_probs = prob_list[:, 1]\n",
    "    # calculate scores\n",
    "    ns_auc = roc_auc_score(list(ytest), ns_probs)\n",
    "    lr_auc = roc_auc_score(list(ytest), lr_probs)\n",
    "    # summarize scores\n",
    "    print('No Skill: ROC AUC=%.3f' % (ns_auc))\n",
    "    print('Logistic: ROC AUC=%.3f' % (lr_auc))\n",
    "    # calculate roc curves\n",
    "    ns_fpr, ns_tpr, _ = roc_curve(list(ytest), ns_probs)\n",
    "    lr_fpr, lr_tpr, _ = roc_curve(list(ytest), lr_probs)\n",
    "    # plot the roc curve for the model\n",
    "    pyplot.plot(ns_fpr, ns_tpr, linestyle='--', label='No Skill')\n",
    "    pyplot.plot(lr_fpr, lr_tpr, marker='.', label='Logistic')\n",
    "    # axis labels\n",
    "    pyplot.xlabel('False Positive Rate')\n",
    "    pyplot.ylabel('True Positive Rate')\n",
    "    # show the legend\n",
    "    pyplot.legend()\n",
    "    # show the plot\n",
    "    pyplot.show()"
   ]
  },
  {
   "cell_type": "code",
   "execution_count": 61,
   "id": "73f00cf5",
   "metadata": {},
   "outputs": [],
   "source": [
    "def recall_precision(testy, lr_probs):\n",
    "    # predict class values   \n",
    "    lr_precision, lr_recall, _ = precision_recall_curve(testy, lr_probs)\n",
    "    lr_auc =  auc(lr_recall, lr_precision)\n",
    "    # summarize scores\n",
    "    print('Logistic: auc=%.3f' % (lr_auc))\n",
    "    # plot the precision-recall curves\n",
    "    no_skill = len(testy[testy==1]) / len(testy)\n",
    "    pyplot.plot([0, 1], [no_skill, no_skill], linestyle='--', label='No Skill')\n",
    "    pyplot.plot(lr_recall, lr_precision, marker='.', label='Logistic')\n",
    "    # axis labels\n",
    "    pyplot.xlabel('Recall')\n",
    "    pyplot.ylabel('Precision')\n",
    "    # show the legend\n",
    "    pyplot.legend()\n",
    "    # show the plot\n",
    "    pyplot.show()"
   ]
  },
  {
   "cell_type": "markdown",
   "id": "5d3db57c",
   "metadata": {},
   "source": [
    "# Data Loading"
   ]
  },
  {
   "cell_type": "code",
   "execution_count": 62,
   "id": "dd723dba",
   "metadata": {},
   "outputs": [],
   "source": [
    "import joblib\n",
    "\n",
    "X_train_eng = joblib.load(\"models/X_and_y/X_train_eng.pkl\") \n",
    "X_test_eng = joblib.load(\"models/X_and_y/X_test_eng.pkl\") \n",
    "y_train_eng = joblib.load(\"models/X_and_y/y_train_eng.pkl\")\n",
    "y_test_eng = joblib.load(\"models/X_and_y/y_test_eng.pkl\")\n"
   ]
  },
  {
   "cell_type": "code",
   "execution_count": 99,
   "id": "fb447e09",
   "metadata": {},
   "outputs": [
    {
     "data": {
      "text/plain": [
       "2000"
      ]
     },
     "execution_count": 99,
     "metadata": {},
     "output_type": "execute_result"
    }
   ],
   "source": [
    "len(val_y)"
   ]
  },
  {
   "cell_type": "code",
   "execution_count": 63,
   "id": "97d7ea89",
   "metadata": {},
   "outputs": [],
   "source": [
    "val_path_data = 'eng_val_labse.pkl'\n",
    "val_path_label = '../data/val_es'"
   ]
  },
  {
   "cell_type": "code",
   "execution_count": 64,
   "id": "c993a7a6",
   "metadata": {},
   "outputs": [],
   "source": [
    "val = torch.load(val_path_data)\n",
    "val = [x.numpy().reshape(-1) for x in val]\n",
    "\n",
    "val_set = pd.read_csv(val_path_label)\n",
    "val_y = val_set. stars"
   ]
  },
  {
   "cell_type": "code",
   "execution_count": 65,
   "id": "0f1340fb",
   "metadata": {},
   "outputs": [
    {
     "name": "stderr",
     "output_type": "stream",
     "text": [
      "/home/ec2-user/anaconda3/envs/amazonei_pytorch_latest_p36/lib/python3.6/site-packages/ipykernel/__main__.py:1: SettingWithCopyWarning: \n",
      "A value is trying to be set on a copy of a slice from a DataFrame\n",
      "\n",
      "See the caveats in the documentation: https://pandas.pydata.org/pandas-docs/stable/user_guide/indexing.html#returning-a-view-versus-a-copy\n",
      "  if __name__ == '__main__':\n",
      "/home/ec2-user/anaconda3/envs/amazonei_pytorch_latest_p36/lib/python3.6/site-packages/ipykernel/__main__.py:2: SettingWithCopyWarning: \n",
      "A value is trying to be set on a copy of a slice from a DataFrame\n",
      "\n",
      "See the caveats in the documentation: https://pandas.pydata.org/pandas-docs/stable/user_guide/indexing.html#returning-a-view-versus-a-copy\n",
      "  from ipykernel import kernelapp as app\n"
     ]
    }
   ],
   "source": [
    "val_y[val_y == 1] = 0 \n",
    "val_y[val_y == 5] = 1 "
   ]
  },
  {
   "cell_type": "markdown",
   "id": "bfde4941",
   "metadata": {},
   "source": [
    "# Logistic regression"
   ]
  },
  {
   "cell_type": "markdown",
   "id": "d0d96be8",
   "metadata": {},
   "source": [
    "# Train results"
   ]
  },
  {
   "cell_type": "code",
   "execution_count": 66,
   "id": "40ed2a14",
   "metadata": {},
   "outputs": [],
   "source": [
    "pipe = joblib.load(\"models/Logistic_Regression/logistic_regression_LABSE.pkl\")"
   ]
  },
  {
   "cell_type": "code",
   "execution_count": 67,
   "id": "cfda7e9f",
   "metadata": {},
   "outputs": [
    {
     "name": "stdout",
     "output_type": "stream",
     "text": [
      "No Skill: ROC AUC=0.500\n",
      "Logistic: ROC AUC=0.987\n"
     ]
    },
    {
     "data": {
      "image/png": "[encoded data removed]",
      "text/plain": [
       "<Figure size 432x288 with 1 Axes>"
      ]
     },
     "metadata": {
      "needs_background": "light"
     },
     "output_type": "display_data"
    }
   ],
   "source": [
    "roc(y_train_eng, pipe.predict_proba(X_train_eng))"
   ]
  },
  {
   "cell_type": "markdown",
   "id": "b579d74d",
   "metadata": {},
   "source": [
    "## Test - English only"
   ]
  },
  {
   "cell_type": "code",
   "execution_count": 68,
   "id": "a01f3fd9",
   "metadata": {},
   "outputs": [
    {
     "name": "stdout",
     "output_type": "stream",
     "text": [
      "              precision    recall  f1-score   support\n",
      "\n",
      "     class 0       0.94      0.93      0.93      1001\n",
      "     class 1       0.93      0.93      0.93       999\n",
      "\n",
      "    accuracy                           0.93      2000\n",
      "   macro avg       0.93      0.93      0.93      2000\n",
      "weighted avg       0.93      0.93      0.93      2000\n",
      "\n"
     ]
    }
   ],
   "source": [
    "from sklearn.metrics import classification_report\n",
    "\n",
    "target_names = ['class 0', 'class 1']\n",
    "\n",
    "print(classification_report(pipe.predict(X_test_eng), y_test_eng, target_names=target_names))"
   ]
  },
  {
   "cell_type": "markdown",
   "id": "1efe7ecf",
   "metadata": {},
   "source": [
    "### ROC"
   ]
  },
  {
   "cell_type": "code",
   "execution_count": 69,
   "id": "5b931953",
   "metadata": {},
   "outputs": [
    {
     "name": "stdout",
     "output_type": "stream",
     "text": [
      "No Skill: ROC AUC=0.500\n",
      "Logistic: ROC AUC=0.981\n"
     ]
    },
    {
     "data": {
      "image/png": "[encoded data removed]",
      "text/plain": [
       "<Figure size 432x288 with 1 Axes>"
      ]
     },
     "metadata": {
      "needs_background": "light"
     },
     "output_type": "display_data"
    }
   ],
   "source": [
    "roc(y_test_eng, pipe.predict_proba(X_test_eng))"
   ]
  },
  {
   "cell_type": "markdown",
   "id": "49500d70",
   "metadata": {},
   "source": [
    "### precision recall"
   ]
  },
  {
   "cell_type": "code",
   "execution_count": 70,
   "id": "0f7f60b6",
   "metadata": {},
   "outputs": [
    {
     "name": "stdout",
     "output_type": "stream",
     "text": [
      "Logistic: auc=0.981\n"
     ]
    },
    {
     "data": {
      "image/png": "[encoded data removed]",
      "text/plain": [
       "<Figure size 432x288 with 1 Axes>"
      ]
     },
     "metadata": {
      "needs_background": "light"
     },
     "output_type": "display_data"
    }
   ],
   "source": [
    "lr_probs = pipe.predict_proba(X_test_eng)\n",
    "lr_probs = lr_probs[:, 1]\n",
    "recall_precision(y_test_eng, lr_probs)"
   ]
  },
  {
   "cell_type": "markdown",
   "id": "dd073630",
   "metadata": {},
   "source": [
    "## Test- Spanish only"
   ]
  },
  {
   "cell_type": "code",
   "execution_count": 71,
   "id": "6a795400",
   "metadata": {
    "scrolled": true
   },
   "outputs": [
    {
     "name": "stdout",
     "output_type": "stream",
     "text": [
      "              precision    recall  f1-score   support\n",
      "\n",
      "     class 0       0.94      0.93      0.93      1002\n",
      "     class 1       0.93      0.93      0.93       998\n",
      "\n",
      "    accuracy                           0.93      2000\n",
      "   macro avg       0.93      0.93      0.93      2000\n",
      "weighted avg       0.93      0.93      0.93      2000\n",
      "\n"
     ]
    }
   ],
   "source": [
    "from sklearn.metrics import classification_report\n",
    "\n",
    "target_names = ['class 0', 'class 1']\n",
    "\n",
    "print(classification_report(pipe.predict(val), list(val_y), target_names=target_names))"
   ]
  },
  {
   "cell_type": "markdown",
   "id": "ab412df3",
   "metadata": {},
   "source": [
    "### ROC"
   ]
  },
  {
   "cell_type": "code",
   "execution_count": 72,
   "id": "015b2c21",
   "metadata": {},
   "outputs": [
    {
     "name": "stdout",
     "output_type": "stream",
     "text": [
      "No Skill: ROC AUC=0.500\n",
      "Logistic: ROC AUC=0.983\n"
     ]
    },
    {
     "data": {
      "image/png": "[encoded data removed]",
      "text/plain": [
       "<Figure size 432x288 with 1 Axes>"
      ]
     },
     "metadata": {
      "needs_background": "light"
     },
     "output_type": "display_data"
    }
   ],
   "source": [
    "roc(list(val_y), pipe.predict_proba(val))"
   ]
  },
  {
   "cell_type": "markdown",
   "id": "82c90585",
   "metadata": {},
   "source": [
    "### precision recall"
   ]
  },
  {
   "cell_type": "code",
   "execution_count": 73,
   "id": "17839548",
   "metadata": {},
   "outputs": [
    {
     "name": "stdout",
     "output_type": "stream",
     "text": [
      "Logistic: auc=0.985\n"
     ]
    },
    {
     "data": {
      "image/png": "[encoded data removed]",
      "text/plain": [
       "<Figure size 432x288 with 1 Axes>"
      ]
     },
     "metadata": {
      "needs_background": "light"
     },
     "output_type": "display_data"
    }
   ],
   "source": [
    "lr_probs = pipe.predict_proba(val)\n",
    "lr_probs = lr_probs[:, 1]\n",
    "recall_precision(val_y, lr_probs)"
   ]
  },
  {
   "cell_type": "markdown",
   "id": "d4386cec",
   "metadata": {},
   "source": [
    "# MLP Classifier"
   ]
  },
  {
   "cell_type": "markdown",
   "id": "7fa6e9bd",
   "metadata": {},
   "source": [
    "## Test - English only"
   ]
  },
  {
   "cell_type": "code",
   "execution_count": 74,
   "id": "d86a66d9",
   "metadata": {},
   "outputs": [],
   "source": [
    "pipe = joblib.load(\"models/MLP_Classifier/MLP_Classifier_LABSE.pkl\")"
   ]
  },
  {
   "cell_type": "code",
   "execution_count": 75,
   "id": "7b988a99",
   "metadata": {},
   "outputs": [
    {
     "name": "stdout",
     "output_type": "stream",
     "text": [
      "              precision    recall  f1-score   support\n",
      "\n",
      "     class 0       0.93      0.95      0.94       986\n",
      "     class 1       0.95      0.93      0.94      1014\n",
      "\n",
      "    accuracy                           0.94      2000\n",
      "   macro avg       0.94      0.94      0.94      2000\n",
      "weighted avg       0.94      0.94      0.94      2000\n",
      "\n"
     ]
    }
   ],
   "source": [
    "from sklearn.metrics import classification_report\n",
    "\n",
    "target_names = ['class 0', 'class 1']\n",
    "\n",
    "print(classification_report(pipe.predict(X_test_eng), y_test_eng, target_names=target_names))"
   ]
  },
  {
   "cell_type": "markdown",
   "id": "74dd6c58",
   "metadata": {},
   "source": [
    "### ROC"
   ]
  },
  {
   "cell_type": "code",
   "execution_count": 76,
   "id": "b5c64a9c",
   "metadata": {},
   "outputs": [
    {
     "name": "stdout",
     "output_type": "stream",
     "text": [
      "No Skill: ROC AUC=0.500\n",
      "Logistic: ROC AUC=0.985\n"
     ]
    },
    {
     "data": {
      "image/png": "[encoded data removed]",
      "text/plain": [
       "<Figure size 432x288 with 1 Axes>"
      ]
     },
     "metadata": {
      "needs_background": "light"
     },
     "output_type": "display_data"
    }
   ],
   "source": [
    "roc(y_test_eng, pipe.predict_proba(X_test_eng))"
   ]
  },
  {
   "cell_type": "markdown",
   "id": "58e8a034",
   "metadata": {},
   "source": [
    "### precision recall"
   ]
  },
  {
   "cell_type": "code",
   "execution_count": 77,
   "id": "f86cd70e",
   "metadata": {},
   "outputs": [
    {
     "name": "stdout",
     "output_type": "stream",
     "text": [
      "Logistic: auc=0.985\n"
     ]
    },
    {
     "data": {
      "image/png": "[encoded data removed]",
      "text/plain": [
       "<Figure size 432x288 with 1 Axes>"
      ]
     },
     "metadata": {
      "needs_background": "light"
     },
     "output_type": "display_data"
    }
   ],
   "source": [
    "lr_probs = pipe.predict_proba(X_test_eng)\n",
    "lr_probs = lr_probs[:, 1]\n",
    "recall_precision(y_test_eng, lr_probs)"
   ]
  },
  {
   "cell_type": "markdown",
   "id": "dad36699",
   "metadata": {},
   "source": [
    "## Test- Spanish only"
   ]
  },
  {
   "cell_type": "code",
   "execution_count": 79,
   "id": "dbb2c49b",
   "metadata": {
    "scrolled": true
   },
   "outputs": [
    {
     "name": "stdout",
     "output_type": "stream",
     "text": [
      "              precision    recall  f1-score   support\n",
      "\n",
      "     class 0       0.94      0.94      0.94      1004\n",
      "     class 1       0.94      0.94      0.94       996\n",
      "\n",
      "    accuracy                           0.94      2000\n",
      "   macro avg       0.94      0.94      0.94      2000\n",
      "weighted avg       0.94      0.94      0.94      2000\n",
      "\n"
     ]
    }
   ],
   "source": [
    "from sklearn.metrics import classification_report\n",
    "\n",
    "target_names = ['class 0', 'class 1']\n",
    "\n",
    "print(classification_report(pipe.predict(val), list(val_y), target_names=target_names))"
   ]
  },
  {
   "cell_type": "markdown",
   "id": "07db3fdd",
   "metadata": {},
   "source": [
    "### ROC"
   ]
  },
  {
   "cell_type": "code",
   "execution_count": 81,
   "id": "63e7306f",
   "metadata": {},
   "outputs": [
    {
     "name": "stdout",
     "output_type": "stream",
     "text": [
      "No Skill: ROC AUC=0.500\n",
      "Logistic: ROC AUC=0.985\n"
     ]
    },
    {
     "data": {
      "image/png": "[encoded data removed]",
      "text/plain": [
       "<Figure size 432x288 with 1 Axes>"
      ]
     },
     "metadata": {
      "needs_background": "light"
     },
     "output_type": "display_data"
    }
   ],
   "source": [
    "roc(val_y, pipe.predict_proba(val))"
   ]
  },
  {
   "cell_type": "markdown",
   "id": "4bb61f99",
   "metadata": {},
   "source": [
    "### precision recall"
   ]
  },
  {
   "cell_type": "code",
   "execution_count": 83,
   "id": "e5d17682",
   "metadata": {},
   "outputs": [
    {
     "name": "stdout",
     "output_type": "stream",
     "text": [
      "Logistic: auc=0.987\n"
     ]
    },
    {
     "data": {
      "image/png": "[encoded data removed]",
      "text/plain": [
       "<Figure size 432x288 with 1 Axes>"
      ]
     },
     "metadata": {
      "needs_background": "light"
     },
     "output_type": "display_data"
    }
   ],
   "source": [
    "lr_probs = pipe.predict_proba(val)\n",
    "lr_probs = lr_probs[:, 1]\n",
    "recall_precision(val_y, lr_probs)"
   ]
  },
  {
   "cell_type": "markdown",
   "id": "81b40c03",
   "metadata": {},
   "source": [
    "# Neural Network"
   ]
  },
  {
   "cell_type": "code",
   "execution_count": 84,
   "id": "41ac9915",
   "metadata": {},
   "outputs": [],
   "source": [
    "import torch\n",
    "import torch.nn as nn\n",
    "import torch.optim as optim\n",
    "from torch.optim import lr_scheduler\n",
    "import numpy as np\n",
    "import torchvision\n",
    "from torchvision import datasets, models\n",
    "\n",
    "class net(nn.Module):\n",
    "\n",
    "    def __init__(self):\n",
    "\n",
    "        super(net, self).__init__()\n",
    "        # dropout layer\n",
    "        self.dropout = nn.Dropout(0.1)\n",
    "        # relu activation function\n",
    "        self.relu =  nn.ReLU()\n",
    "        # dense layer 1\n",
    "        self.fc1 = nn.Linear(768,512)\n",
    "        # dense layer 2 (Output layer)\n",
    "        self.fc2 = nn.Linear(512,2)\n",
    "        #softmax activation function\n",
    "        self.softmax = nn.LogSoftmax(dim=1)\n",
    "    \n",
    "    #define the forward pass\n",
    "    def forward(self, in_vec):\n",
    "        \n",
    "        #pass the inputs to the model  \n",
    "        x = self.fc1(in_vec)\n",
    "        x = self.relu(x)\n",
    "        x = self.dropout(x)\n",
    "        # output layer\n",
    "        x = self.fc2(x)\n",
    "        # apply softmax activation\n",
    "        x = self.softmax(x)\n",
    "\n",
    "        return x"
   ]
  },
  {
   "cell_type": "code",
   "execution_count": 85,
   "id": "d5cde298",
   "metadata": {},
   "outputs": [],
   "source": [
    "import torch.utils.data as data_utils\n",
    "\n",
    "tensor_x_train = torch.from_numpy(np.array(X_train_eng)) # transform to torch tensor\n",
    "tensor_y_train = torch.from_numpy(np.array(y_train_eng))\n",
    "\n",
    "tensor_x_val = torch.from_numpy(np.array(X_test_eng)) # transform to torch tensor\n",
    "tensor_y_val = torch.from_numpy(np.array(y_test_eng))\n",
    "\n",
    "datasets = {'train':data_utils.TensorDataset(tensor_x_train, tensor_y_train) ,'val':data_utils.TensorDataset(tensor_x_val, tensor_y_val)  }\n",
    "\n",
    "\n",
    "dataloaders_my = {\n",
    "    'train': torch.utils.data.DataLoader(datasets['train'], batch_size=16,\n",
    "                                             shuffle=True, num_workers=2),\n",
    "    'val': torch.utils.data.DataLoader(datasets['val'], batch_size=16,\n",
    "                                          shuffle=False, num_workers=2)\n",
    "  }"
   ]
  },
  {
   "cell_type": "code",
   "execution_count": 86,
   "id": "bda223ce",
   "metadata": {},
   "outputs": [
    {
     "data": {
      "text/plain": [
       "<All keys matched successfully>"
      ]
     },
     "execution_count": 86,
     "metadata": {},
     "output_type": "execute_result"
    }
   ],
   "source": [
    "model = net()\n",
    "model.load_state_dict(torch.load('models/Neural_Network/c.pt'))\n"
   ]
  },
  {
   "cell_type": "markdown",
   "id": "add66bb9",
   "metadata": {},
   "source": [
    "## Test - English only"
   ]
  },
  {
   "cell_type": "code",
   "execution_count": 87,
   "id": "7a18462b",
   "metadata": {},
   "outputs": [],
   "source": [
    "predlist=torch.zeros(0,dtype=torch.long, device='cpu')\n",
    "lbllist=torch.zeros(0,dtype=torch.long, device='cpu')\n",
    "prob_list = []\n",
    "device = 'cpu'\n",
    "\n",
    "with torch.no_grad(): # No need to collect gradients when generating predictions\n",
    "    for i, (inputs, labels) in enumerate(dataloaders_my['val']):\n",
    "        inputs = inputs.to(device)\n",
    "        labels = labels.to(device)\n",
    "        model.eval()\n",
    "        outputs = model(inputs)\n",
    "        prob_list.append(np.exp(outputs.cpu().numpy()))\n",
    "        _, preds = torch.max(outputs, 1)\n",
    "        \n",
    "        predlist=torch.cat([predlist, preds.view(-1).cpu()])\n",
    "        lbllist=torch.cat([lbllist, labels.view(-1).cpu()])"
   ]
  },
  {
   "cell_type": "code",
   "execution_count": 88,
   "id": "90c17de8",
   "metadata": {},
   "outputs": [
    {
     "name": "stdout",
     "output_type": "stream",
     "text": [
      "              precision    recall  f1-score   support\n",
      "\n",
      "     class 0       0.94      0.94      0.94       999\n",
      "     class 1       0.94      0.94      0.94      1001\n",
      "\n",
      "    accuracy                           0.94      2000\n",
      "   macro avg       0.94      0.94      0.94      2000\n",
      "weighted avg       0.94      0.94      0.94      2000\n",
      "\n"
     ]
    }
   ],
   "source": [
    "from sklearn.metrics import classification_report\n",
    "\n",
    "target_names = ['class 0', 'class 1']\n",
    "\n",
    "print(classification_report(predlist, lbllist, target_names=target_names))"
   ]
  },
  {
   "cell_type": "markdown",
   "id": "8f9760d8",
   "metadata": {},
   "source": [
    "### ROC"
   ]
  },
  {
   "cell_type": "code",
   "execution_count": 89,
   "id": "372dd024",
   "metadata": {},
   "outputs": [
    {
     "name": "stdout",
     "output_type": "stream",
     "text": [
      "No Skill: ROC AUC=0.500\n",
      "Logistic: ROC AUC=0.983\n"
     ]
    },
    {
     "data": {
      "image/png": "[encoded data removed]",
      "text/plain": [
       "<Figure size 432x288 with 1 Axes>"
      ]
     },
     "metadata": {
      "needs_background": "light"
     },
     "output_type": "display_data"
    }
   ],
   "source": [
    "lr_probs = np.vstack(prob_list)\n",
    "roc(y_test_eng, lr_probs)"
   ]
  },
  {
   "cell_type": "markdown",
   "id": "ec3b0f36",
   "metadata": {},
   "source": [
    "### precision recall"
   ]
  },
  {
   "cell_type": "code",
   "execution_count": 90,
   "id": "e5dd202e",
   "metadata": {},
   "outputs": [
    {
     "name": "stdout",
     "output_type": "stream",
     "text": [
      "Logistic: auc=0.983\n"
     ]
    },
    {
     "data": {
      "image/png": "[encoded data removed]",
      "text/plain": [
       "<Figure size 432x288 with 1 Axes>"
      ]
     },
     "metadata": {
      "needs_background": "light"
     },
     "output_type": "display_data"
    }
   ],
   "source": [
    "lr_probs_1 = lr_probs[:, 1]\n",
    "recall_precision(y_test_eng, lr_probs_1)"
   ]
  },
  {
   "cell_type": "markdown",
   "id": "c3ebf756",
   "metadata": {},
   "source": [
    "### Test- Spanish only"
   ]
  },
  {
   "cell_type": "code",
   "execution_count": 92,
   "id": "74769f71",
   "metadata": {},
   "outputs": [],
   "source": [
    "tensor_x_val_spanish = torch.from_numpy(np.array(val)) # transform to torch tensor\n",
    "tensor_y_val_spanish = torch.from_numpy(np.array(val_y))\n",
    "\n",
    "datasets_spanish = {'val':data_utils.TensorDataset(tensor_x_val_spanish, tensor_y_val_spanish)  }\n",
    "\n",
    "\n",
    "dataloaders_spanish = {\n",
    "    'val': torch.utils.data.DataLoader(datasets_spanish['val'], batch_size=16,\n",
    "                                          shuffle=False, num_workers=2)\n",
    "  }"
   ]
  },
  {
   "cell_type": "code",
   "execution_count": 93,
   "id": "e254765f",
   "metadata": {},
   "outputs": [],
   "source": [
    "predlist=torch.zeros(0,dtype=torch.long, device='cpu')\n",
    "lbllist=torch.zeros(0,dtype=torch.long, device='cpu')\n",
    "prob_list = []\n",
    "with torch.no_grad(): # No need to collect gradients when generating predictions\n",
    "    for i, (inputs, labels) in enumerate(dataloaders_spanish['val']):\n",
    "        inputs = inputs.to(device)\n",
    "        labels = labels.to(device)\n",
    "        model.eval()\n",
    "        outputs = model(inputs)\n",
    "        prob_list.append(np.exp(outputs.cpu().numpy()))\n",
    "        _, preds = torch.max(outputs, 1)\n",
    "        \n",
    "        predlist=torch.cat([predlist, preds.view(-1).cpu()])\n",
    "        lbllist=torch.cat([lbllist, labels.view(-1).cpu()])"
   ]
  },
  {
   "cell_type": "code",
   "execution_count": 94,
   "id": "5e7d80cf",
   "metadata": {},
   "outputs": [
    {
     "name": "stdout",
     "output_type": "stream",
     "text": [
      "              precision    recall  f1-score   support\n",
      "\n",
      "     class 0       0.94      0.93      0.94      1009\n",
      "     class 1       0.93      0.94      0.94       991\n",
      "\n",
      "    accuracy                           0.94      2000\n",
      "   macro avg       0.94      0.94      0.94      2000\n",
      "weighted avg       0.94      0.94      0.94      2000\n",
      "\n"
     ]
    }
   ],
   "source": [
    "from sklearn.metrics import classification_report\n",
    "\n",
    "target_names = ['class 0', 'class 1']\n",
    "\n",
    "print(classification_report(predlist, lbllist, target_names=target_names))"
   ]
  },
  {
   "cell_type": "markdown",
   "id": "2277f4c4",
   "metadata": {},
   "source": [
    "### ROC"
   ]
  },
  {
   "cell_type": "code",
   "execution_count": 95,
   "id": "182ff3ce",
   "metadata": {},
   "outputs": [
    {
     "name": "stdout",
     "output_type": "stream",
     "text": [
      "No Skill: ROC AUC=0.500\n",
      "Logistic: ROC AUC=0.983\n"
     ]
    },
    {
     "data": {
      "image/png": "[encoded data removed]",
      "text/plain": [
       "<Figure size 432x288 with 1 Axes>"
      ]
     },
     "metadata": {
      "needs_background": "light"
     },
     "output_type": "display_data"
    }
   ],
   "source": [
    "lr_probs = np.vstack(prob_list)\n",
    "roc(lbllist.numpy(), lr_probs)"
   ]
  },
  {
   "cell_type": "markdown",
   "id": "eb333343",
   "metadata": {},
   "source": [
    "### precision recall"
   ]
  },
  {
   "cell_type": "code",
   "execution_count": 96,
   "id": "53ff45e4",
   "metadata": {},
   "outputs": [
    {
     "name": "stdout",
     "output_type": "stream",
     "text": [
      "Logistic: auc=0.985\n"
     ]
    },
    {
     "data": {
      "image/png": "[encoded data removed]",
      "text/plain": [
       "<Figure size 432x288 with 1 Axes>"
      ]
     },
     "metadata": {
      "needs_background": "light"
     },
     "output_type": "display_data"
    }
   ],
   "source": [
    "lr_probs_1 = lr_probs[:, 1]\n",
    "recall_precision(lbllist.numpy(), lr_probs_1)"
   ]
  }
 ],
 "metadata": {
  "kernelspec": {
   "display_name": "conda_amazonei_pytorch_latest_p36",
   "language": "python",
   "name": "conda_amazonei_pytorch_latest_p36"
  },
  "language_info": {
   "codemirror_mode": {
    "name": "ipython",
    "version": 3
   },
   "file_extension": ".py",
   "mimetype": "text/x-python",
   "name": "python",
   "nbconvert_exporter": "python",
   "pygments_lexer": "ipython3",
   "version": "3.6.13"
  }
 },
 "nbformat": 4,
 "nbformat_minor": 5
}
