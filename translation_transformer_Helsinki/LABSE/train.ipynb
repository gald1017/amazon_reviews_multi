{
 "cells": [
  {
   "cell_type": "code",
   "execution_count": 3,
   "id": "94965317",
   "metadata": {},
   "outputs": [],
   "source": [
    "import pandas as pd\n",
    "import pickle\n",
    "import numpy as np\n",
    "import torch\n",
    "from sklearn.manifold import TSNE\n",
    "import matplotlib.pyplot as plt\n",
    "import torch\n",
    "from sklearn.linear_model import LogisticRegression\n",
    "from sklearn.pipeline import make_pipeline\n",
    "from sklearn.preprocessing import StandardScaler"
   ]
  },
  {
   "cell_type": "code",
   "execution_count": 4,
   "id": "4012c823",
   "metadata": {},
   "outputs": [],
   "source": [
    "def _read_pickle(file_name):\n",
    "    return pd.read_pickle(file_name)\n",
    "\n",
    "def read_data(file_name):\n",
    "    \n",
    "    df = _read_pickle(file_name)\n",
    "    a = [] \n",
    "    for t in df:\n",
    "        a.append(np.squeeze(t.numpy(), 0))\n",
    "\n",
    "    return a\n"
   ]
  },
  {
   "cell_type": "markdown",
   "id": "dc97b672",
   "metadata": {},
   "source": [
    "# Data Loading"
   ]
  },
  {
   "cell_type": "code",
   "execution_count": 5,
   "id": "364517c9",
   "metadata": {},
   "outputs": [],
   "source": [
    "train_path_data = '../eng_to_es_train_labse_embdded.pkl'\n",
    "train_path_label = '../../data/train_en'\n",
    "\n",
    "test_path_data = '../eng_to_es_test_labse_embdded.pkl'\n",
    "test_path_label = '../../data/test_en'\n"
   ]
  },
  {
   "cell_type": "code",
   "execution_count": 6,
   "id": "ae200678",
   "metadata": {},
   "outputs": [],
   "source": [
    "train = torch.load(train_path_data)\n",
    "train_set = pd.read_csv(train_path_label)\n",
    "\n",
    "test = torch.load(test_path_data)\n",
    "test_set = pd.read_csv(test_path_label)"
   ]
  },
  {
   "cell_type": "code",
   "execution_count": 7,
   "id": "8fd33f73",
   "metadata": {},
   "outputs": [
    {
     "data": {
      "text/plain": [
       "80000"
      ]
     },
     "execution_count": 7,
     "metadata": {},
     "output_type": "execute_result"
    }
   ],
   "source": [
    "len(train)"
   ]
  },
  {
   "cell_type": "code",
   "execution_count": 8,
   "id": "e303c8cd",
   "metadata": {},
   "outputs": [],
   "source": [
    "X_train_eng = train\n",
    "y_train_eng = train_set.stars\n",
    "\n",
    "X_test_eng = torch.load(test_path_data)\n",
    "y_test_eng = pd.read_csv(test_path_label).stars\n"
   ]
  },
  {
   "cell_type": "code",
   "execution_count": 9,
   "id": "1297f9e7",
   "metadata": {},
   "outputs": [
    {
     "name": "stderr",
     "output_type": "stream",
     "text": [
      "/home/ec2-user/anaconda3/envs/amazonei_pytorch_latest_p36/lib/python3.6/site-packages/ipykernel/__main__.py:1: SettingWithCopyWarning: \n",
      "A value is trying to be set on a copy of a slice from a DataFrame\n",
      "\n",
      "See the caveats in the documentation: https://pandas.pydata.org/pandas-docs/stable/user_guide/indexing.html#returning-a-view-versus-a-copy\n",
      "  if __name__ == '__main__':\n",
      "/home/ec2-user/anaconda3/envs/amazonei_pytorch_latest_p36/lib/python3.6/site-packages/ipykernel/__main__.py:2: SettingWithCopyWarning: \n",
      "A value is trying to be set on a copy of a slice from a DataFrame\n",
      "\n",
      "See the caveats in the documentation: https://pandas.pydata.org/pandas-docs/stable/user_guide/indexing.html#returning-a-view-versus-a-copy\n",
      "  from ipykernel import kernelapp as app\n"
     ]
    }
   ],
   "source": [
    "y_train_eng[y_train_eng == 1] = 0 \n",
    "y_train_eng[y_train_eng == 5] = 1 \n",
    "\n",
    "y_test_eng[y_test_eng == 1] = 0 \n",
    "y_test_eng[y_test_eng == 5] = 1 "
   ]
  },
  {
   "cell_type": "code",
   "execution_count": 10,
   "id": "867c0f65",
   "metadata": {},
   "outputs": [],
   "source": [
    "X_train_eng = np.squeeze(np.stack([x.numpy() for x in X_train_eng]))\n",
    "X_test_eng = np.squeeze(np.stack([x.numpy() for x in X_test_eng]))\n",
    "#val = np.squeeze(np.stack([x.numpy() for x in val]))"
   ]
  },
  {
   "cell_type": "markdown",
   "id": "947c16cf",
   "metadata": {},
   "source": [
    "# Logistic regression"
   ]
  },
  {
   "cell_type": "markdown",
   "id": "a8657e05",
   "metadata": {},
   "source": [
    "### Train - English only"
   ]
  },
  {
   "cell_type": "code",
   "execution_count": 11,
   "id": "97c442b3",
   "metadata": {},
   "outputs": [
    {
     "name": "stdout",
     "output_type": "stream",
     "text": [
      "CPU times: user 42.1 s, sys: 1.23 s, total: 43.3 s\n",
      "Wall time: 12 s\n"
     ]
    },
    {
     "data": {
      "text/plain": [
       "Pipeline(steps=[('standardscaler', StandardScaler()),\n",
       "                ('logisticregression',\n",
       "                 LogisticRegression(class_weight='balanced', max_iter=10000))])"
      ]
     },
     "execution_count": 11,
     "metadata": {},
     "output_type": "execute_result"
    }
   ],
   "source": [
    "%%time\n",
    "pipe = make_pipeline(StandardScaler(), LogisticRegression( class_weight='balanced', max_iter=10000))\n",
    "#pipe = make_pipeline(StandardScaler(), LogisticRegression( max_iter=1000))\n",
    "\n",
    "pipe.fit(X_train_eng, y_train_eng)\n",
    "#clf = LogisticRegression(random_state=0).fit(train[0:1000],list(val_set.toxic[0:1000]) )\n"
   ]
  },
  {
   "cell_type": "code",
   "execution_count": 12,
   "id": "65929e3d",
   "metadata": {},
   "outputs": [
    {
     "data": {
      "text/plain": [
       "['models/X_and_y/y_test_eng.pkl']"
      ]
     },
     "execution_count": 12,
     "metadata": {},
     "output_type": "execute_result"
    }
   ],
   "source": [
    "import joblib\n",
    "\n",
    "joblib.dump(pipe, \"models/Logistic_Regression/logistic_regression_LABSE_embedded.pkl\") \n",
    "joblib.dump(X_train_eng, \"models/X_and_y/X_train_eng.pkl\") \n",
    "joblib.dump(X_test_eng, \"models/X_and_y/X_test_eng.pkl\") \n",
    "joblib.dump(y_train_eng, \"models/X_and_y/y_train_eng.pkl\")\n",
    "joblib.dump(y_test_eng, \"models/X_and_y/y_test_eng.pkl\")\n"
   ]
  },
  {
   "cell_type": "markdown",
   "id": "774aba91",
   "metadata": {},
   "source": [
    "# MLP Classifier"
   ]
  },
  {
   "cell_type": "markdown",
   "id": "4f3fdff0",
   "metadata": {},
   "source": [
    "### Train - English only"
   ]
  },
  {
   "cell_type": "code",
   "execution_count": 13,
   "id": "c21966ed",
   "metadata": {},
   "outputs": [
    {
     "name": "stdout",
     "output_type": "stream",
     "text": [
      "CPU times: user 21min 43s, sys: 54.1 s, total: 22min 37s\n",
      "Wall time: 5min 40s\n"
     ]
    },
    {
     "data": {
      "text/plain": [
       "Pipeline(steps=[('standardscaler', StandardScaler()),\n",
       "                ('mlpclassifier',\n",
       "                 MLPClassifier(hidden_layer_sizes=512, max_iter=300,\n",
       "                               random_state=1))])"
      ]
     },
     "execution_count": 13,
     "metadata": {},
     "output_type": "execute_result"
    }
   ],
   "source": [
    "%%time\n",
    "\n",
    "from sklearn.neural_network import MLPClassifier\n",
    "\n",
    "clf = MLPClassifier(hidden_layer_sizes=512, random_state=1, max_iter=300)\n",
    "\n",
    "pipe = make_pipeline(StandardScaler(), clf)\n",
    "pipe.fit(X_train_eng, y_train_eng)"
   ]
  },
  {
   "cell_type": "code",
   "execution_count": 14,
   "id": "bd5edc4a",
   "metadata": {},
   "outputs": [
    {
     "data": {
      "text/plain": [
       "['models/MLP_Classifier/MLP_Classifier_LABSE_embedded.pkl']"
      ]
     },
     "execution_count": 14,
     "metadata": {},
     "output_type": "execute_result"
    }
   ],
   "source": [
    "joblib.dump(pipe, \"models/MLP_Classifier/MLP_Classifier_LABSE_embedded.pkl\") \n"
   ]
  },
  {
   "cell_type": "markdown",
   "id": "647ad7af",
   "metadata": {},
   "source": [
    "# Neural Network"
   ]
  },
  {
   "cell_type": "code",
   "execution_count": 15,
   "id": "b4b14203",
   "metadata": {},
   "outputs": [],
   "source": [
    "import torch\n",
    "import torch.nn as nn\n",
    "import torch.optim as optim\n",
    "from torch.optim import lr_scheduler\n",
    "import numpy as np\n",
    "import torchvision\n",
    "from torchvision import datasets, models\n",
    "\n",
    "class net(nn.Module):\n",
    "\n",
    "    def __init__(self):\n",
    "\n",
    "        super(net, self).__init__()\n",
    "        # dropout layer\n",
    "        self.dropout = nn.Dropout(0.1)\n",
    "        # relu activation function\n",
    "        self.relu =  nn.ReLU()\n",
    "        # dense layer 1\n",
    "        self.fc1 = nn.Linear(768,512)\n",
    "        # dense layer 2 (Output layer)\n",
    "        self.fc2 = nn.Linear(512,2)\n",
    "        #softmax activation function\n",
    "        self.softmax = nn.LogSoftmax(dim=1)\n",
    "    \n",
    "    #define the forward pass\n",
    "    def forward(self, in_vec):\n",
    "        \n",
    "        #pass the inputs to the model  \n",
    "        x = self.fc1(in_vec)\n",
    "        x = self.relu(x)\n",
    "        x = self.dropout(x)\n",
    "        # output layer\n",
    "        x = self.fc2(x)\n",
    "        # apply softmax activation\n",
    "        x = self.softmax(x)\n",
    "\n",
    "        return x"
   ]
  },
  {
   "cell_type": "code",
   "execution_count": 16,
   "id": "9ad0724c",
   "metadata": {},
   "outputs": [
    {
     "name": "stdout",
     "output_type": "stream",
     "text": [
      "Class Weights: [1. 1.]\n"
     ]
    },
    {
     "name": "stderr",
     "output_type": "stream",
     "text": [
      "/home/ec2-user/anaconda3/envs/amazonei_pytorch_latest_p36/lib/python3.6/site-packages/sklearn/utils/validation.py:70: FutureWarning: Pass classes=[0 1], y=0        0\n",
      "1        0\n",
      "2        0\n",
      "3        0\n",
      "4        0\n",
      "        ..\n",
      "79995    1\n",
      "79996    1\n",
      "79997    1\n",
      "79998    1\n",
      "79999    1\n",
      "Name: stars, Length: 80000, dtype: int64 as keyword args. From version 0.25 passing these as positional arguments will result in an error\n",
      "  FutureWarning)\n"
     ]
    }
   ],
   "source": [
    "from sklearn.utils.class_weight import compute_class_weight\n",
    "\n",
    "#compute the class weights\n",
    "class_weights = compute_class_weight('balanced', np.unique(y_train_eng), y_train_eng)\n",
    "\n",
    "print(\"Class Weights:\",class_weights)\n",
    "\n"
   ]
  },
  {
   "cell_type": "code",
   "execution_count": 17,
   "id": "d6cb1931",
   "metadata": {},
   "outputs": [],
   "source": [
    "import time\n",
    "import copy\n",
    "\n",
    "train_loss = []\n",
    "train_con = []\n",
    "\n",
    "eval_loss = []\n",
    "eval_con = []\n",
    "\n",
    "def train_model(model, dataloaders, criterion, optimizer, scheduler, num_epochs=25):\n",
    "    since = time.time()\n",
    "\n",
    "    # Init variables that will save info about the best model\n",
    "    best_model_wts = copy.deepcopy(model.state_dict())\n",
    "    best_acc = 0.0\n",
    "\n",
    "    for epoch in range(num_epochs):\n",
    "        print('Epoch {}/{}'.format(epoch, num_epochs - 1))\n",
    "        print('-' * 10)\n",
    "\n",
    "        # Each epoch has a training and validation phase\n",
    "        for phase in ['train', 'val']:\n",
    "            if phase == 'train':\n",
    "                # Set model to training mode. \n",
    "                model.train()  \n",
    "            else:\n",
    "                # Set model to evaluate mode. In evaluate mode, we don't perform backprop and don't need to keep the gradients\n",
    "                model.eval()   \n",
    "\n",
    "            running_loss = 0.0\n",
    "            running_corrects = 0\n",
    "\n",
    "            # Iterate over data\n",
    "            i = 0 \n",
    "            for inputs, labels in dataloaders[phase]:\n",
    "                # Prepare the inputs for GPU/CPU\n",
    "                inputs = inputs.to(device)\n",
    "                labels = labels.to(device)\n",
    "                \n",
    "                # zero the parameter gradients\n",
    "                optimizer.zero_grad()\n",
    "\n",
    "                # ===== forward pass ======\n",
    "                with torch.set_grad_enabled(phase=='train'):\n",
    "                    # If we're in train mode, we'll track the gradients to allow back-propagation\n",
    "                    outputs = model(inputs) # apply the model to the inputs. The output is the softmax probability of each class\n",
    "                    _, preds = torch.max(outputs, 1) # \n",
    "                    #print(outputs, labels)\n",
    "\n",
    "                    loss = criterion(outputs, labels)\n",
    "\n",
    "                    # ==== backward pass + optimizer step ====\n",
    "                    # This runs only in the training phase\n",
    "                    if phase == 'train':\n",
    "                        loss.backward() # Perform a step in the opposite direction of the gradient\n",
    "                        optimizer.step() # Adapt the optimizer\n",
    "\n",
    "\n",
    "                # Collect statistics\n",
    "                running_loss += loss.item() * inputs.size(0)\n",
    "                running_corrects += torch.sum(preds == labels.data)\n",
    "\n",
    "                \n",
    "            if phase == 'train':\n",
    "                # Adjust the learning rate based on the scheduler\n",
    "                scheduler.step()\n",
    " \n",
    "\n",
    "            epoch_loss = running_loss / dataset_sizes[phase]\n",
    "            epoch_acc = running_corrects.double() / dataset_sizes[phase]\n",
    "            #writer.add_histogram(\"conv1.weight_hist\", model.conv1.weight, epoch)\n",
    "            #writer.add_histogram(\"conv1.weight_avg\", model.conv1.weight.mean(), epoch)\n",
    "            #writer.add_histogram(\"model_loss\", loss.item(), epoch)\n",
    "\n",
    "            if phase == 'train':\n",
    "                train_loss.append(epoch_loss)\n",
    "                train_con.append(epoch_acc)\n",
    "                i += 1\n",
    "                #writer.add_scalar('training loss', running_loss / 1000, epoch * len(dataloaders['train']) + i) \n",
    "            if phase == 'val':\n",
    "                eval_loss.append(epoch_loss)\n",
    "                eval_con.append(epoch_acc)\n",
    "                i += 1\n",
    "                #writer.add_scalar('eval loss', running_loss / 1000, epoch * len(dataloaders['train']) + i) \n",
    "                #print(\"pred {0} lable: {1}\".format(preds, labels.data))\n",
    "\n",
    "            print(f'{phase} Loss: {epoch_loss:.4f} Acc: {epoch_acc:.4f}')\n",
    "\n",
    "            # Keep the results of the best model so far\n",
    "            if phase == 'val' and epoch_acc > best_acc:\n",
    "                best_acc = epoch_acc\n",
    "                # deepcopy the model\n",
    "                best_model_wts = copy.deepcopy(model.state_dict())\n",
    "\n",
    "        print()\n",
    "\n",
    "    time_elapsed = time.time() - since\n",
    "    print(f'Training complete in {(time_elapsed // 60):.0f}m {(time_elapsed % 60):.0f}s')\n",
    "    print(f'Best val Acc: {best_acc:4f}')\n",
    "\n",
    "    # load best model weights\n",
    "    model.load_state_dict(best_model_wts)\n",
    "    torch.save(model.state_dict(), 'saved_weights.pt')\n",
    "    return model, train_loss, train_con, eval_loss, eval_con"
   ]
  },
  {
   "cell_type": "code",
   "execution_count": 18,
   "id": "6c8aa586",
   "metadata": {},
   "outputs": [],
   "source": [
    "from transformers import AdamW\n",
    "\n",
    "model = net()\n",
    "model.cuda()\n",
    "device = torch.device(\"cuda:0\" if torch.cuda.is_available() else \"cpu\")\n",
    "#device = \"cpu\"\n",
    "# converting list of class weights to a tensor\n",
    "weights= torch.tensor(class_weights,dtype=torch.float)\n",
    "\n",
    "# push to GPU\n",
    "weights = weights.to(device)\n",
    "\n",
    "# define the loss function\n",
    "cross_entropy  = nn.NLLLoss(weight=weights) \n",
    "\n",
    "# define the optimizer\n",
    "optimizer = AdamW(model.parameters(),\n",
    "                  lr = 1e-5)          # learning rate\n",
    "\n",
    "my_lr_scheduler = lr_scheduler.StepLR(optimizer, step_size=7, gamma=0.1)"
   ]
  },
  {
   "cell_type": "code",
   "execution_count": 19,
   "id": "5fd728d2",
   "metadata": {},
   "outputs": [],
   "source": [
    "import torch.utils.data as data_utils\n",
    "\n",
    "tensor_x_train = torch.from_numpy(np.array(X_train_eng)) # transform to torch tensor\n",
    "tensor_y_train = torch.from_numpy(np.array(y_train_eng))\n",
    "\n",
    "tensor_x_val = torch.from_numpy(np.array(X_test_eng)) # transform to torch tensor\n",
    "tensor_y_val = torch.from_numpy(np.array(y_test_eng))\n",
    "\n",
    "datasets = {'train':data_utils.TensorDataset(tensor_x_train, tensor_y_train) ,'val':data_utils.TensorDataset(tensor_x_val, tensor_y_val)  }\n",
    "\n",
    "\n",
    "dataloaders_my = {\n",
    "    'train': torch.utils.data.DataLoader(datasets['train'], batch_size=16,\n",
    "                                             shuffle=True, num_workers=2),\n",
    "    'val': torch.utils.data.DataLoader(datasets['val'], batch_size=16,\n",
    "                                          shuffle=False, num_workers=2)\n",
    "  }"
   ]
  },
  {
   "cell_type": "markdown",
   "id": "c6825ae4",
   "metadata": {},
   "source": [
    "# Train - English only"
   ]
  },
  {
   "cell_type": "code",
   "execution_count": 20,
   "id": "f9abefb4",
   "metadata": {},
   "outputs": [
    {
     "name": "stdout",
     "output_type": "stream",
     "text": [
      "Epoch 0/9\n",
      "----------\n",
      "train Loss: 0.2551 Acc: 0.9145\n",
      "val Loss: 0.1987 Acc: 0.9245\n",
      "\n",
      "Epoch 1/9\n",
      "----------\n",
      "train Loss: 0.1797 Acc: 0.9310\n",
      "val Loss: 0.1948 Acc: 0.9255\n",
      "\n",
      "Epoch 2/9\n",
      "----------\n",
      "train Loss: 0.1748 Acc: 0.9324\n",
      "val Loss: 0.1929 Acc: 0.9265\n",
      "\n",
      "Epoch 3/9\n",
      "----------\n",
      "train Loss: 0.1718 Acc: 0.9334\n",
      "val Loss: 0.1902 Acc: 0.9270\n",
      "\n",
      "Epoch 4/9\n",
      "----------\n",
      "train Loss: 0.1689 Acc: 0.9346\n",
      "val Loss: 0.1885 Acc: 0.9275\n",
      "\n",
      "Epoch 5/9\n",
      "----------\n",
      "train Loss: 0.1657 Acc: 0.9354\n",
      "val Loss: 0.1870 Acc: 0.9300\n",
      "\n",
      "Epoch 6/9\n",
      "----------\n",
      "train Loss: 0.1630 Acc: 0.9367\n",
      "val Loss: 0.1846 Acc: 0.9285\n",
      "\n",
      "Epoch 7/9\n",
      "----------\n",
      "train Loss: 0.1596 Acc: 0.9382\n",
      "val Loss: 0.1844 Acc: 0.9285\n",
      "\n",
      "Epoch 8/9\n",
      "----------\n",
      "train Loss: 0.1592 Acc: 0.9384\n",
      "val Loss: 0.1844 Acc: 0.9280\n",
      "\n",
      "Epoch 9/9\n",
      "----------\n",
      "train Loss: 0.1591 Acc: 0.9379\n",
      "val Loss: 0.1842 Acc: 0.9275\n",
      "\n",
      "Training complete in 2m 43s\n",
      "Best val Acc: 0.930000\n",
      "CPU times: user 2min 24s, sys: 20.4 s, total: 2min 44s\n",
      "Wall time: 2min 43s\n"
     ]
    }
   ],
   "source": [
    "%%time\n",
    "\n",
    "dataset_sizes = {x: len(datasets[x]) for x in ['train', 'val']}\n",
    "\n",
    "train_loss = []\n",
    "train_con = []\n",
    "\n",
    "eval_loss = []\n",
    "eval_con = []\n",
    "\n",
    "num_epochs=10\n",
    "#inputs, labels = inputs.to(device), labels.to(device)\n",
    "\n",
    "model, train_loss, train_con, eval_loss, eval_con  = train_model(model, \n",
    "                    dataloaders_my,\n",
    "                       cross_entropy, \n",
    "                       optimizer, \n",
    "                       my_lr_scheduler,\n",
    "                       num_epochs=num_epochs)"
   ]
  },
  {
   "cell_type": "code",
   "execution_count": 21,
   "id": "9441315b",
   "metadata": {},
   "outputs": [
    {
     "data": {
      "image/png": "[encoded data removed]",
      "text/plain": [
       "<Figure size 432x288 with 1 Axes>"
      ]
     },
     "metadata": {
      "needs_background": "light"
     },
     "output_type": "display_data"
    },
    {
     "data": {
      "image/png": "[encoded data removed]",
      "text/plain": [
       "<Figure size 432x288 with 1 Axes>"
      ]
     },
     "metadata": {
      "needs_background": "light"
     },
     "output_type": "display_data"
    }
   ],
   "source": [
    "plt.figure(1)\n",
    "plt.plot(train_loss, label='train')\n",
    "plt.plot(eval_loss, label='eval')\n",
    "plt.ylabel('Loss')\n",
    "plt.xlabel('epoch')\n",
    "plt.legend()\n",
    "\n",
    "plt.figure(2)\n",
    "plt.plot(train_con, label='train')\n",
    "plt.plot(eval_con, label='eval')\n",
    "plt.ylabel('accuracy')\n",
    "plt.xlabel('epoch')\n",
    "\n",
    "plt.legend()\n",
    "plt.show()"
   ]
  },
  {
   "cell_type": "code",
   "execution_count": null,
   "id": "1f6c34db",
   "metadata": {},
   "outputs": [],
   "source": []
  }
 ],
 "metadata": {
  "kernelspec": {
   "display_name": "conda_amazonei_pytorch_latest_p36",
   "language": "python",
   "name": "conda_amazonei_pytorch_latest_p36"
  },
  "language_info": {
   "codemirror_mode": {
    "name": "ipython",
    "version": 3
   },
   "file_extension": ".py",
   "mimetype": "text/x-python",
   "name": "python",
   "nbconvert_exporter": "python",
   "pygments_lexer": "ipython3",
   "version": "3.6.13"
  }
 },
 "nbformat": 4,
 "nbformat_minor": 5
}
